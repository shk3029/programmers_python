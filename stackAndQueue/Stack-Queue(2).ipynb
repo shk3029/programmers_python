{
 "cells": [
  {
   "cell_type": "code",
   "execution_count": 62,
   "id": "f28c81df",
   "metadata": {},
   "outputs": [],
   "source": [
    "def solution(priorities, location):\n",
    "    answer = 0\n",
    "    result = {}\n",
    "    \n",
    "    priorities_queue = [(value, index) for index, value in enumerate(priorities)]\n",
    "    priorities.sort(reverse=True)\n",
    "    print(priorities)\n",
    "    index = 0\n",
    "    while priorities_queue:\n",
    "\n",
    "        max_value = priorities[0]\n",
    "        pop_value = priorities_queue.pop(0)\n",
    "        print(max_value, pop_value)\n",
    "        \n",
    "        if max_value != pop_value[0]:\n",
    "            priorities_queue.append(pop_value)\n",
    "            priorities.append(max_value)\n",
    "        else :\n",
    "            result[pop_value[1]] = index\n",
    "            priorities.pop(0)\n",
    "            index +=1\n",
    "    print(result)        \n",
    "    return result[location] + 1"
   ]
  },
  {
   "cell_type": "code",
   "execution_count": 90,
   "id": "fc1c8cc7",
   "metadata": {},
   "outputs": [
    {
     "name": "stdout",
     "output_type": "stream",
     "text": [
      "[(0, 1), (1, 1), (2, 9), (3, 1), (4, 1), (5, 1)]\n"
     ]
    },
    {
     "data": {
      "text/plain": [
       "1"
      ]
     },
     "execution_count": 90,
     "metadata": {},
     "output_type": "execute_result"
    }
   ],
   "source": [
    "#priorities = [2, 1, 3, 2]\n",
    "priorities = [1, 1, 9, 1, 1, 1]\n",
    "location = 2\n",
    "#location = 0\n",
    "\n",
    "solution(priorities, location)"
   ]
  },
  {
   "cell_type": "code",
   "execution_count": 89,
   "id": "577d8fdd",
   "metadata": {},
   "outputs": [],
   "source": [
    "def solution(priorities, location):\n",
    "    priorities_queue = [(index, value) for index, value in enumerate(priorities)]\n",
    "    print(priorities_queue)\n",
    "    answer = 0\n",
    "    \n",
    "    while True:\n",
    "        cur = priorities_queue.pop(0)\n",
    "        if any(cur[1] < q[1] for q in priorities_queue):\n",
    "            priorities_queue.append(cur)\n",
    "        else:\n",
    "            answer += 1\n",
    "            if cur[0] == location:\n",
    "                return answer\n"
   ]
  },
  {
   "cell_type": "code",
   "execution_count": 92,
   "id": "237ab9c8",
   "metadata": {},
   "outputs": [
    {
     "name": "stdout",
     "output_type": "stream",
     "text": [
      "[(0, 1), (1, 1), (2, 9), (3, 1), (4, 1), (5, 1)]\n"
     ]
    },
    {
     "data": {
      "text/plain": [
       "5"
      ]
     },
     "execution_count": 92,
     "metadata": {},
     "output_type": "execute_result"
    }
   ],
   "source": [
    "#priorities = [2, 1, 3, 2]\n",
    "priorities = [1, 1, 9, 1, 1, 1]\n",
    "#location = 2\n",
    "location = 0\n",
    "\n",
    "solution(priorities, location)"
   ]
  },
  {
   "cell_type": "code",
   "execution_count": null,
   "id": "7642f2fc",
   "metadata": {},
   "outputs": [],
   "source": []
  },
  {
   "cell_type": "code",
   "execution_count": null,
   "id": "bcb9c5e4",
   "metadata": {},
   "outputs": [],
   "source": []
  }
 ],
 "metadata": {
  "kernelspec": {
   "display_name": "Python 3",
   "language": "python",
   "name": "python3"
  },
  "language_info": {
   "codemirror_mode": {
    "name": "ipython",
    "version": 3
   },
   "file_extension": ".py",
   "mimetype": "text/x-python",
   "name": "python",
   "nbconvert_exporter": "python",
   "pygments_lexer": "ipython3",
   "version": "3.8.8"
  }
 },
 "nbformat": 4,
 "nbformat_minor": 5
}
