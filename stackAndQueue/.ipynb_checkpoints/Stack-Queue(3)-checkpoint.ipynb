{
 "cells": [
  {
   "cell_type": "code",
   "execution_count": 135,
   "id": "a2c35c6d",
   "metadata": {},
   "outputs": [],
   "source": [
    "from functools import reduce\n",
    "def solution(bridge_length, weight, truck_weights):\n",
    "    bridge = []\n",
    "    time = 0\n",
    "    \n",
    "    while truck_weights:\n",
    "        time += 1\n",
    "        bridge = [(x+1, y) for x,y in bridge if x+1 <= bridge_length]\n",
    "\n",
    "        if not bridge:\n",
    "            bridge.append((1, truck_weights.pop(0)))\n",
    "        \n",
    "        elif bridge:\n",
    "            bridge_truck_weights =  [y for x,y in bridge]\n",
    "            sum_weights = reduce(lambda x,y:x+y, bridge_truck_weights)\n",
    "            \n",
    "            if sum_weights + truck_weights[0] > weight:\n",
    "                pass\n",
    "\n",
    "            else:\n",
    "                bridge.append((1, truck_weights.pop(0)))\n",
    "        \n",
    "    while bridge:\n",
    "        time += 1\n",
    "        bridge = [(x+1, y) for x,y in bridge if x+1 <= bridge_length]\n",
    "        \n",
    "    return time"
   ]
  },
  {
   "cell_type": "code",
   "execution_count": 136,
   "id": "1a220b89",
   "metadata": {},
   "outputs": [],
   "source": [
    "bridge_length = 2\n",
    "weight = 10\n",
    "truck_weights = [7,4,5,6]"
   ]
  },
  {
   "cell_type": "code",
   "execution_count": 137,
   "id": "a99b4abb",
   "metadata": {},
   "outputs": [
    {
     "data": {
      "text/plain": [
       "8"
      ]
     },
     "execution_count": 137,
     "metadata": {},
     "output_type": "execute_result"
    }
   ],
   "source": [
    "solution(bridge_length, weight, truck_weights)"
   ]
  },
  {
   "cell_type": "code",
   "execution_count": 138,
   "id": "dbade30d",
   "metadata": {},
   "outputs": [],
   "source": [
    "bridge_length = 100\n",
    "weight = 100\n",
    "truck_weights = [10]"
   ]
  },
  {
   "cell_type": "code",
   "execution_count": 139,
   "id": "0f2567c2",
   "metadata": {},
   "outputs": [
    {
     "data": {
      "text/plain": [
       "101"
      ]
     },
     "execution_count": 139,
     "metadata": {},
     "output_type": "execute_result"
    }
   ],
   "source": [
    "solution(bridge_length, weight, truck_weights)"
   ]
  },
  {
   "cell_type": "code",
   "execution_count": 140,
   "id": "a5b78328",
   "metadata": {},
   "outputs": [],
   "source": [
    "bridge_length = 100\n",
    "weight = 100\n",
    "truck_weights = [10]\n",
    "\n",
    "bridge_length = 100\n",
    "weight = 100\n",
    "truck_weights = [10,10,10,10,10,10,10,10,10,10]"
   ]
  },
  {
   "cell_type": "code",
   "execution_count": 141,
   "id": "1bc66592",
   "metadata": {},
   "outputs": [
    {
     "data": {
      "text/plain": [
       "110"
      ]
     },
     "execution_count": 141,
     "metadata": {},
     "output_type": "execute_result"
    }
   ],
   "source": [
    "solution(bridge_length, weight, truck_weights)"
   ]
  },
  {
   "cell_type": "code",
   "execution_count": null,
   "id": "9444cfe2",
   "metadata": {},
   "outputs": [],
   "source": []
  }
 ],
 "metadata": {
  "kernelspec": {
   "display_name": "Python 3",
   "language": "python",
   "name": "python3"
  },
  "language_info": {
   "codemirror_mode": {
    "name": "ipython",
    "version": 3
   },
   "file_extension": ".py",
   "mimetype": "text/x-python",
   "name": "python",
   "nbconvert_exporter": "python",
   "pygments_lexer": "ipython3",
   "version": "3.8.8"
  }
 },
 "nbformat": 4,
 "nbformat_minor": 5
}
