{
 "cells": [
  {
   "cell_type": "code",
   "execution_count": 367,
   "id": "31d73a85",
   "metadata": {},
   "outputs": [],
   "source": [
    "def solution(prices):\n",
    "    prices_len = len(prices)\n",
    "    answer = [0] * prices_len\n",
    "    idx = 0\n",
    "    while idx < prices_len-1:      \n",
    "        price = prices[idx]  \n",
    "        \n",
    "        # for i in prices[idx+1:prices_len]\n",
    "        # 슬라이싱으로 하는 경우 리스트를 계속 만드므로 비용이 많이 듬\n",
    "        for i in range(idx+1, prices_len):\n",
    "            answer[idx] += 1\n",
    "            if price > prices[i]:\n",
    "                break\n",
    "                \n",
    "        idx += 1\n",
    "    \n",
    "    return answer"
   ]
  },
  {
   "cell_type": "code",
   "execution_count": 368,
   "id": "add2ee8f",
   "metadata": {},
   "outputs": [],
   "source": [
    "prices = [1,2,3,2,3]"
   ]
  },
  {
   "cell_type": "code",
   "execution_count": 369,
   "id": "a013435e",
   "metadata": {},
   "outputs": [
    {
     "data": {
      "text/plain": [
       "[4, 3, 1, 1, 0]"
      ]
     },
     "execution_count": 369,
     "metadata": {},
     "output_type": "execute_result"
    }
   ],
   "source": [
    "solution(prices)"
   ]
  },
  {
   "cell_type": "code",
   "execution_count": 370,
   "id": "feafb345",
   "metadata": {},
   "outputs": [
    {
     "data": {
      "text/plain": [
       "[6, 1, 3, 1, 1, 1, 0]"
      ]
     },
     "execution_count": 370,
     "metadata": {},
     "output_type": "execute_result"
    }
   ],
   "source": [
    "prices = [1,12,5,18,10,2,5]\n",
    "solution(prices)"
   ]
  },
  {
   "cell_type": "code",
   "execution_count": null,
   "id": "a872acc9",
   "metadata": {},
   "outputs": [],
   "source": []
  },
  {
   "cell_type": "code",
   "execution_count": null,
   "id": "594e8594",
   "metadata": {},
   "outputs": [],
   "source": []
  }
 ],
 "metadata": {
  "kernelspec": {
   "display_name": "Python 3",
   "language": "python",
   "name": "python3"
  },
  "language_info": {
   "codemirror_mode": {
    "name": "ipython",
    "version": 3
   },
   "file_extension": ".py",
   "mimetype": "text/x-python",
   "name": "python",
   "nbconvert_exporter": "python",
   "pygments_lexer": "ipython3",
   "version": "3.8.8"
  }
 },
 "nbformat": 4,
 "nbformat_minor": 5
}
