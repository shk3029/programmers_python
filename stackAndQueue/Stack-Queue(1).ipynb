{
 "cells": [
  {
   "cell_type": "code",
   "execution_count": 33,
   "id": "aeb2da48",
   "metadata": {},
   "outputs": [],
   "source": [
    "import math\n",
    "\n",
    "def solution(progresses, speeds):\n",
    "    day = 0\n",
    "    day_dict = {}\n",
    "    while progresses:\n",
    "        progress = progresses.pop(0)\n",
    "        speed = speeds.pop(0)   \n",
    "        cur_day = math.ceil((100-progress) / speed)\n",
    "        if cur_day > day:\n",
    "            day_dict[cur_day] = 1\n",
    "            day = cur_day\n",
    "        else:\n",
    "            day_dict[day] += 1\n",
    "            \n",
    "    return list(day_dict.values())"
   ]
  },
  {
   "cell_type": "code",
   "execution_count": 43,
   "id": "543127ff",
   "metadata": {},
   "outputs": [
    {
     "name": "stdout",
     "output_type": "stream",
     "text": [
      "<zip object at 0x7fb44a541f80>\n"
     ]
    },
    {
     "data": {
      "text/plain": [
       "0"
      ]
     },
     "execution_count": 43,
     "metadata": {},
     "output_type": "execute_result"
    }
   ],
   "source": [
    "progresses = [93, 30, 55]\n",
    "speeds = [1,30,5]\n",
    "\n",
    "solution(progresses, speeds)"
   ]
  },
  {
   "cell_type": "code",
   "execution_count": 44,
   "id": "7374a480",
   "metadata": {},
   "outputs": [],
   "source": [
    "def other(progresses, speeds):\n",
    "    q = []\n",
    "    for p,s in zip(progresses, speeds):\n",
    "        print(p,s)\n",
    "    return 0"
   ]
  },
  {
   "cell_type": "code",
   "execution_count": 45,
   "id": "e0524c9e",
   "metadata": {},
   "outputs": [
    {
     "name": "stdout",
     "output_type": "stream",
     "text": [
      "93 1\n",
      "30 30\n",
      "55 5\n"
     ]
    },
    {
     "data": {
      "text/plain": [
       "0"
      ]
     },
     "execution_count": 45,
     "metadata": {},
     "output_type": "execute_result"
    }
   ],
   "source": [
    "other(progresses, speeds)"
   ]
  },
  {
   "cell_type": "code",
   "execution_count": null,
   "id": "dca74c7b",
   "metadata": {},
   "outputs": [],
   "source": []
  }
 ],
 "metadata": {
  "kernelspec": {
   "display_name": "Python 3",
   "language": "python",
   "name": "python3"
  },
  "language_info": {
   "codemirror_mode": {
    "name": "ipython",
    "version": 3
   },
   "file_extension": ".py",
   "mimetype": "text/x-python",
   "name": "python",
   "nbconvert_exporter": "python",
   "pygments_lexer": "ipython3",
   "version": "3.8.8"
  }
 },
 "nbformat": 4,
 "nbformat_minor": 5
}
