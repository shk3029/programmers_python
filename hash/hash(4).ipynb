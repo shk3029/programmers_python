{
 "cells": [
  {
   "cell_type": "code",
   "execution_count": 84,
   "id": "c0972f00",
   "metadata": {},
   "outputs": [],
   "source": [
    "def solution(geners, plays):\n",
    "    geners_dic_list = {}\n",
    "    geners_dic = {}\n",
    "    \n",
    "    for i in range(len(geners)):\n",
    "        if not geners[i] in geners_dic:\n",
    "            geners_dic[geners[i]] = plays[i]\n",
    "            geners_dic_list[geners[i]] = [(plays[i],i)]\n",
    "        else:\n",
    "            geners_dic[geners[i]] += plays[i]\n",
    "            geners_dic_list[geners[i]].append((plays[i],i))\n",
    "    \n",
    "    sorted_dict = sorted(geners_dic.items(), key = lambda item:item[1], reverse=True)    \n",
    "    \n",
    "    answer = []\n",
    "    \n",
    "    for i in [i[0] for i in sorted_dict]:\n",
    "        geners_dic_list[i].sort(key=lambda x:x[0], reverse=True)\n",
    "        index = [x[1] for x in geners_dic_list[i]]\n",
    "        answer.extend(index[0:2])\n",
    "\n",
    "    return answer"
   ]
  },
  {
   "cell_type": "code",
   "execution_count": 85,
   "id": "b340a9fc",
   "metadata": {},
   "outputs": [
    {
     "data": {
      "text/plain": [
       "[4, 1, 3, 0]"
      ]
     },
     "execution_count": 85,
     "metadata": {},
     "output_type": "execute_result"
    }
   ],
   "source": [
    "geners = [\"classic\", \"pop\", \"classic\", \"classic\", \"pop\"]\n",
    "plays = [500, 600, 150, 800, 2500]\n",
    "\n",
    "\n",
    "\n",
    "solution(geners, plays)"
   ]
  },
  {
   "cell_type": "code",
   "execution_count": null,
   "id": "7fd3b476",
   "metadata": {},
   "outputs": [],
   "source": []
  }
 ],
 "metadata": {
  "kernelspec": {
   "display_name": "Python 3",
   "language": "python",
   "name": "python3"
  },
  "language_info": {
   "codemirror_mode": {
    "name": "ipython",
    "version": 3
   },
   "file_extension": ".py",
   "mimetype": "text/x-python",
   "name": "python",
   "nbconvert_exporter": "python",
   "pygments_lexer": "ipython3",
   "version": "3.8.8"
  }
 },
 "nbformat": 4,
 "nbformat_minor": 5
}
