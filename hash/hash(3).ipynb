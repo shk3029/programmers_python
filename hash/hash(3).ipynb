{
 "cells": [
  {
   "cell_type": "code",
   "execution_count": 161,
   "id": "f8e9e26b",
   "metadata": {},
   "outputs": [],
   "source": [
    "def test(clothes):\n",
    "    from collections import Counter\n",
    "    from functools import reduce\n",
    "    li = [kind for name, kind in clothes]\n",
    "    print(li)\n",
    "    cnt = Counter(li)\n",
    "    print(cnt)\n",
    "    # (a+1)(b+1)(c+1) - 1 \n",
    "    # = (a+b+c) + (ab+bc+ca) + abc\n",
    "    answer = reduce(lambda x,y : x*(y+1), cnt.values(), 1) -1\n",
    "    return answer"
   ]
  },
  {
   "cell_type": "code",
   "execution_count": 162,
   "id": "904fcc2d",
   "metadata": {},
   "outputs": [
    {
     "name": "stdout",
     "output_type": "stream",
     "text": [
      "['headgear', 'headgear', 'eyewear', 'test']\n",
      "Counter({'headgear': 2, 'eyewear': 1, 'test': 1})\n"
     ]
    },
    {
     "data": {
      "text/plain": [
       "11"
      ]
     },
     "execution_count": 162,
     "metadata": {},
     "output_type": "execute_result"
    }
   ],
   "source": [
    "ex1 = [['yello', 'headgear'],['blue', 'headgear'],['blue', 'eyewear'],['test', 'test']]\n",
    "test(ex1)"
   ]
  },
  {
   "cell_type": "markdown",
   "id": "61bbb743",
   "metadata": {},
   "source": [
    "2 + 1 + 1 = 4\n",
    "\n",
    "2*1 + 2*1 + 1*1 = 5\n",
    "2*1*1 = 2"
   ]
  },
  {
   "cell_type": "code",
   "execution_count": 155,
   "id": "bcbbd89f",
   "metadata": {},
   "outputs": [],
   "source": [
    "def solution(clothes):\n",
    "    clothes_dict = {}\n",
    "    \n",
    "    for i in clothes:\n",
    "        if not i[1] in clothes_dict:\n",
    "            clothes_dict[i[1]] = 2\n",
    "        else :\n",
    "            clothes_dict[i[1]] += 1\n",
    "    \n",
    "    result = 1\n",
    "    for value in clothes_dict.values():\n",
    "        result *= value\n",
    "    \n",
    "    return result - 1"
   ]
  },
  {
   "cell_type": "code",
   "execution_count": 156,
   "id": "ce5b7c3d",
   "metadata": {},
   "outputs": [
    {
     "name": "stdout",
     "output_type": "stream",
     "text": [
      "[['yello', 'headgear'], ['blue', 'headgear'], ['blue', 'eyewear'], ['test', 'test']]\n"
     ]
    },
    {
     "data": {
      "text/plain": [
       "11"
      ]
     },
     "execution_count": 156,
     "metadata": {},
     "output_type": "execute_result"
    }
   ],
   "source": [
    "solution(ex1)"
   ]
  },
  {
   "cell_type": "code",
   "execution_count": 171,
   "id": "7b525f8e",
   "metadata": {},
   "outputs": [
    {
     "name": "stdout",
     "output_type": "stream",
     "text": [
      "Counter({'a': 2, 'b': 1, 'c': 1})\n",
      "dict_values([2, 1, 1])\n"
     ]
    },
    {
     "data": {
      "text/plain": [
       "11"
      ]
     },
     "execution_count": 171,
     "metadata": {},
     "output_type": "execute_result"
    }
   ],
   "source": [
    "from collections import Counter\n",
    "from functools import reduce\n",
    "    \n",
    "target = ['a', 'a','b','c']\n",
    "target_counter = Counter(target)\n",
    "print(target_counter)\n",
    "print(target_counter.values())\n",
    "reduce(lambda x,y : x*(y+1), target_counter.values(), 1) -1"
   ]
  },
  {
   "cell_type": "code",
   "execution_count": null,
   "id": "2856c25a",
   "metadata": {},
   "outputs": [],
   "source": []
  },
  {
   "cell_type": "code",
   "execution_count": null,
   "id": "1252a9c0",
   "metadata": {},
   "outputs": [],
   "source": []
  }
 ],
 "metadata": {
  "kernelspec": {
   "display_name": "Python 3",
   "language": "python",
   "name": "python3"
  },
  "language_info": {
   "codemirror_mode": {
    "name": "ipython",
    "version": 3
   },
   "file_extension": ".py",
   "mimetype": "text/x-python",
   "name": "python",
   "nbconvert_exporter": "python",
   "pygments_lexer": "ipython3",
   "version": "3.8.8"
  }
 },
 "nbformat": 4,
 "nbformat_minor": 5
}
