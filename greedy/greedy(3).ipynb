{
 "cells": [
  {
   "cell_type": "code",
   "execution_count": 297,
   "id": "1a55aa90",
   "metadata": {},
   "outputs": [],
   "source": [
    "def solution(number, k):\n",
    "    \n",
    "    numbers = [int(i) for i in number]\n",
    "    sorted_numbers = sorted(numbers, reverse=True)\n",
    "    print(numbers)\n",
    "    print(sorted_numbers)\n",
    "    \n",
    "    result = []\n",
    "    while k!=0:\n",
    "        max_num = sorted_numbers.pop(0)\n",
    "        max_num_index = numbers.index(max_num)\n",
    "        print(max_num, max_num_index)\n",
    "        \n",
    "        if k >= max_num_index:\n",
    "            for num in numbers:\n",
    "                if max_num == num:\n",
    "                    result.append(numbers.remove(num))\n",
    "                    break \n",
    "                numbers.remove(num)\n",
    "                k -= 1\n",
    "\n",
    "        \n",
    "    print(result)\n",
    "    \n",
    "    return 0"
   ]
  },
  {
   "cell_type": "code",
   "execution_count": 298,
   "id": "63e6394e",
   "metadata": {},
   "outputs": [
    {
     "name": "stdout",
     "output_type": "stream",
     "text": [
      "[1, 9, 2, 4]\n",
      "[9, 4, 2, 1]\n",
      "9 1\n",
      "[]\n"
     ]
    },
    {
     "data": {
      "text/plain": [
       "0"
      ]
     },
     "execution_count": 298,
     "metadata": {},
     "output_type": "execute_result"
    }
   ],
   "source": [
    "number, k = \"1924\", 2\n",
    "solution(number,k)"
   ]
  },
  {
   "cell_type": "code",
   "execution_count": 299,
   "id": "36383d66",
   "metadata": {},
   "outputs": [
    {
     "name": "stdout",
     "output_type": "stream",
     "text": [
      "[1, 2, 3, 1, 2, 3, 4]\n",
      "[4, 3, 3, 2, 2, 1, 1]\n",
      "4 6\n",
      "3 2\n",
      "3 3\n",
      "2 0\n",
      "2 1\n",
      "[None, None]\n"
     ]
    },
    {
     "data": {
      "text/plain": [
       "0"
      ]
     },
     "execution_count": 299,
     "metadata": {},
     "output_type": "execute_result"
    }
   ],
   "source": [
    "number, k = \"1231234\", 3\n",
    "solution(number,k)"
   ]
  },
  {
   "cell_type": "code",
   "execution_count": 293,
   "id": "3a237b0b",
   "metadata": {},
   "outputs": [
    {
     "name": "stdout",
     "output_type": "stream",
     "text": [
      "[4, 1, 7, 7, 2, 5, 2, 8, 4, 1]\n",
      "[8, 7, 7, 5, 4, 4, 2, 2, 1, 1]\n",
      "8 7\n",
      "7 2\n",
      "7 1\n",
      "5 1\n"
     ]
    },
    {
     "ename": "ValueError",
     "evalue": "4 is not in list",
     "output_type": "error",
     "traceback": [
      "\u001b[0;31m---------------------------------------------------------------------------\u001b[0m",
      "\u001b[0;31mValueError\u001b[0m                                Traceback (most recent call last)",
      "\u001b[0;32m<ipython-input-293-337347370ffa>\u001b[0m in \u001b[0;36m<module>\u001b[0;34m\u001b[0m\n\u001b[1;32m      1\u001b[0m \u001b[0mnumber\u001b[0m\u001b[0;34m,\u001b[0m \u001b[0mk\u001b[0m \u001b[0;34m=\u001b[0m \u001b[0;34m\"4177252841\"\u001b[0m\u001b[0;34m,\u001b[0m \u001b[0;36m4\u001b[0m\u001b[0;34m\u001b[0m\u001b[0;34m\u001b[0m\u001b[0m\n\u001b[0;32m----> 2\u001b[0;31m \u001b[0msolution\u001b[0m\u001b[0;34m(\u001b[0m\u001b[0mnumber\u001b[0m\u001b[0;34m,\u001b[0m\u001b[0mk\u001b[0m\u001b[0;34m)\u001b[0m\u001b[0;34m\u001b[0m\u001b[0;34m\u001b[0m\u001b[0m\n\u001b[0m",
      "\u001b[0;32m<ipython-input-290-2b416aa3273d>\u001b[0m in \u001b[0;36msolution\u001b[0;34m(number, k)\u001b[0m\n\u001b[1;32m      9\u001b[0m     \u001b[0;32mwhile\u001b[0m \u001b[0mk\u001b[0m\u001b[0;34m!=\u001b[0m\u001b[0;36m0\u001b[0m\u001b[0;34m:\u001b[0m\u001b[0;34m\u001b[0m\u001b[0;34m\u001b[0m\u001b[0m\n\u001b[1;32m     10\u001b[0m         \u001b[0mmax_num\u001b[0m \u001b[0;34m=\u001b[0m \u001b[0msorted_numbers\u001b[0m\u001b[0;34m.\u001b[0m\u001b[0mpop\u001b[0m\u001b[0;34m(\u001b[0m\u001b[0;36m0\u001b[0m\u001b[0;34m)\u001b[0m\u001b[0;34m\u001b[0m\u001b[0;34m\u001b[0m\u001b[0m\n\u001b[0;32m---> 11\u001b[0;31m         \u001b[0mmax_num_index\u001b[0m \u001b[0;34m=\u001b[0m \u001b[0mnumbers\u001b[0m\u001b[0;34m.\u001b[0m\u001b[0mindex\u001b[0m\u001b[0;34m(\u001b[0m\u001b[0mmax_num\u001b[0m\u001b[0;34m)\u001b[0m\u001b[0;34m\u001b[0m\u001b[0;34m\u001b[0m\u001b[0m\n\u001b[0m\u001b[1;32m     12\u001b[0m         \u001b[0mprint\u001b[0m\u001b[0;34m(\u001b[0m\u001b[0mmax_num\u001b[0m\u001b[0;34m,\u001b[0m \u001b[0mmax_num_index\u001b[0m\u001b[0;34m)\u001b[0m\u001b[0;34m\u001b[0m\u001b[0;34m\u001b[0m\u001b[0m\n\u001b[1;32m     13\u001b[0m         \u001b[0;31m# 2, 1\u001b[0m\u001b[0;34m\u001b[0m\u001b[0;34m\u001b[0m\u001b[0;34m\u001b[0m\u001b[0m\n",
      "\u001b[0;31mValueError\u001b[0m: 4 is not in list"
     ]
    }
   ],
   "source": [
    "number, k = \"4177252841\", 4\n",
    "solution(number,k)"
   ]
  },
  {
   "cell_type": "code",
   "execution_count": 272,
   "id": "4f0bcc52",
   "metadata": {},
   "outputs": [
    {
     "name": "stdout",
     "output_type": "stream",
     "text": [
      "[8, 7, 6, 5, 4, 3, 2, 1]\n",
      "[8, 7, 6, 5, 4, 3, 2, 1]\n",
      "[5, 4, 3, 2, 1]\n"
     ]
    },
    {
     "data": {
      "text/plain": [
       "0"
      ]
     },
     "execution_count": 272,
     "metadata": {},
     "output_type": "execute_result"
    }
   ],
   "source": [
    "number, k = \"87654321\", 3\n",
    "solution(number,k)"
   ]
  },
  {
   "cell_type": "code",
   "execution_count": null,
   "id": "6df0c299",
   "metadata": {},
   "outputs": [],
   "source": []
  },
  {
   "cell_type": "code",
   "execution_count": null,
   "id": "1aa90b9e",
   "metadata": {},
   "outputs": [],
   "source": []
  },
  {
   "cell_type": "code",
   "execution_count": null,
   "id": "17e380c9",
   "metadata": {},
   "outputs": [],
   "source": []
  }
 ],
 "metadata": {
  "kernelspec": {
   "display_name": "Python 3",
   "language": "python",
   "name": "python3"
  },
  "language_info": {
   "codemirror_mode": {
    "name": "ipython",
    "version": 3
   },
   "file_extension": ".py",
   "mimetype": "text/x-python",
   "name": "python",
   "nbconvert_exporter": "python",
   "pygments_lexer": "ipython3",
   "version": "3.8.8"
  }
 },
 "nbformat": 4,
 "nbformat_minor": 5
}
