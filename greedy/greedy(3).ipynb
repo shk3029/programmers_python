{
 "cells": [
  {
   "cell_type": "code",
   "execution_count": 1,
   "id": "1a55aa90",
   "metadata": {},
   "outputs": [],
   "source": [
    "def solution(number, k):\n",
    "    print('number', number, 'k', k)\n",
    "    \n",
    "    for i in number:\n",
    "        if len(number[i:]) >= k:\n",
    "            \n",
    "    \n",
    "    return 0"
   ]
  },
  {
   "cell_type": "code",
   "execution_count": 2,
   "id": "63e6394e",
   "metadata": {},
   "outputs": [
    {
     "name": "stdout",
     "output_type": "stream",
     "text": [
      "number 1924 k 2\n"
     ]
    },
    {
     "data": {
      "text/plain": [
       "0"
      ]
     },
     "execution_count": 2,
     "metadata": {},
     "output_type": "execute_result"
    }
   ],
   "source": [
    "number, k = \"1924\", 2\n",
    "solution(number,k)"
   ]
  },
  {
   "cell_type": "code",
   "execution_count": 3,
   "id": "36383d66",
   "metadata": {},
   "outputs": [
    {
     "name": "stdout",
     "output_type": "stream",
     "text": [
      "number 1231234 k 3\n"
     ]
    },
    {
     "data": {
      "text/plain": [
       "0"
      ]
     },
     "execution_count": 3,
     "metadata": {},
     "output_type": "execute_result"
    }
   ],
   "source": [
    "number, k = \"1231234\", 3\n",
    "solution(number,k)"
   ]
  },
  {
   "cell_type": "code",
   "execution_count": 4,
   "id": "3a237b0b",
   "metadata": {},
   "outputs": [
    {
     "name": "stdout",
     "output_type": "stream",
     "text": [
      "number 4177252841 k 4\n"
     ]
    },
    {
     "data": {
      "text/plain": [
       "0"
      ]
     },
     "execution_count": 4,
     "metadata": {},
     "output_type": "execute_result"
    }
   ],
   "source": [
    "number, k = \"4177252841\", 4\n",
    "solution(number,k)"
   ]
  },
  {
   "cell_type": "code",
   "execution_count": 5,
   "id": "4f0bcc52",
   "metadata": {},
   "outputs": [
    {
     "name": "stdout",
     "output_type": "stream",
     "text": [
      "number 87654321 k 3\n"
     ]
    },
    {
     "data": {
      "text/plain": [
       "0"
      ]
     },
     "execution_count": 5,
     "metadata": {},
     "output_type": "execute_result"
    }
   ],
   "source": [
    "number, k = \"87654321\", 3\n",
    "solution(number,k)"
   ]
  },
  {
   "cell_type": "code",
   "execution_count": null,
   "id": "6df0c299",
   "metadata": {},
   "outputs": [],
   "source": []
  },
  {
   "cell_type": "code",
   "execution_count": null,
   "id": "1aa90b9e",
   "metadata": {},
   "outputs": [],
   "source": []
  },
  {
   "cell_type": "code",
   "execution_count": null,
   "id": "17e380c9",
   "metadata": {},
   "outputs": [],
   "source": []
  }
 ],
 "metadata": {
  "kernelspec": {
   "display_name": "Python 3",
   "language": "python",
   "name": "python3"
  },
  "language_info": {
   "codemirror_mode": {
    "name": "ipython",
    "version": 3
   },
   "file_extension": ".py",
   "mimetype": "text/x-python",
   "name": "python",
   "nbconvert_exporter": "python",
   "pygments_lexer": "ipython3",
   "version": "3.8.8"
  }
 },
 "nbformat": 4,
 "nbformat_minor": 5
}
