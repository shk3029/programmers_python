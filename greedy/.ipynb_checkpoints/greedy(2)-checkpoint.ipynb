{
 "cells": [
  {
   "cell_type": "code",
   "execution_count": 225,
   "id": "6f618549",
   "metadata": {},
   "outputs": [],
   "source": [
    "def solution(name):\n",
    "    ALP = ['A','B','C','D','E','F','G','H','I','J','K','L','M','N'\n",
    "          ,'O','P','Q','R','S','T','U','V','W','X','Y','Z']\n",
    "    \n",
    "    total_move = 0\n",
    "\n",
    "    # 위,아래 (문자바꾸기)\n",
    "    for char in name:\n",
    "        target_idx = ALP.index(char)\n",
    "        move_front = move_diff_front(target_idx)\n",
    "        move_back = move_diff_back(target_idx, ALP)\n",
    "        \n",
    "        if move_front > move_back:\n",
    "            total_move += move_back\n",
    "        else:\n",
    "            total_move += move_front   \n",
    "    \n",
    "    \n",
    "    # 왼쪽, 오른쪽 (커서 움직이기) Greedy\n",
    "    idx_move = 1\n",
    "    while idx_move < len(name):\n",
    "        idx_move += 1\n",
    "    \n",
    "    total_move += idx_move - 1\n",
    "   \n",
    "    a_indx = name.find(ALP[0])\n",
    "    if ALP[0] in name and a_indx <= len(name)//2 and a_indx != -1:\n",
    "        total_move -= 1\n",
    "    \n",
    "    return total_move\n",
    "\n",
    "\n",
    "def move_diff_front(target_idx):\n",
    "    return target_idx\n",
    "\n",
    "def move_diff_back(target_idx,ALP):\n",
    "    return (len(ALP) - target_idx) \n",
    "\n",
    "\n"
   ]
  },
  {
   "cell_type": "code",
   "execution_count": 226,
   "id": "a12caa4e",
   "metadata": {},
   "outputs": [
    {
     "data": {
      "text/plain": [
       "11"
      ]
     },
     "execution_count": 226,
     "metadata": {},
     "output_type": "execute_result"
    }
   ],
   "source": [
    "name = \"JAZ\"\n",
    "solution(name)"
   ]
  },
  {
   "cell_type": "code",
   "execution_count": 227,
   "id": "b7fb4db0",
   "metadata": {},
   "outputs": [
    {
     "data": {
      "text/plain": [
       "56"
      ]
     },
     "execution_count": 227,
     "metadata": {},
     "output_type": "execute_result"
    }
   ],
   "source": [
    "name = \"JEROEN\"\n",
    "solution(name)"
   ]
  },
  {
   "cell_type": "code",
   "execution_count": 228,
   "id": "e5dd7ae5",
   "metadata": {},
   "outputs": [
    {
     "data": {
      "text/plain": [
       "23"
      ]
     },
     "execution_count": 228,
     "metadata": {},
     "output_type": "execute_result"
    }
   ],
   "source": [
    "name = \"JAN\"\n",
    "solution(name)"
   ]
  },
  {
   "cell_type": "code",
   "execution_count": 229,
   "id": "78a22c78",
   "metadata": {},
   "outputs": [
    {
     "data": {
      "text/plain": [
       "14"
      ]
     },
     "execution_count": 229,
     "metadata": {},
     "output_type": "execute_result"
    }
   ],
   "source": [
    "name = \"ABAAAAAAAAABB\"\n",
    "solution(name)"
   ]
  },
  {
   "cell_type": "code",
   "execution_count": null,
   "id": "3e07ab22",
   "metadata": {},
   "outputs": [],
   "source": []
  }
 ],
 "metadata": {
  "kernelspec": {
   "display_name": "Python 3",
   "language": "python",
   "name": "python3"
  },
  "language_info": {
   "codemirror_mode": {
    "name": "ipython",
    "version": 3
   },
   "file_extension": ".py",
   "mimetype": "text/x-python",
   "name": "python",
   "nbconvert_exporter": "python",
   "pygments_lexer": "ipython3",
   "version": "3.8.8"
  }
 },
 "nbformat": 4,
 "nbformat_minor": 5
}
