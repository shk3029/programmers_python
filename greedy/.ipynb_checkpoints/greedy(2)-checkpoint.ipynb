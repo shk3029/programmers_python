{
 "cells": [
  {
   "cell_type": "code",
   "execution_count": 18,
   "id": "432fb9e4",
   "metadata": {},
   "outputs": [],
   "source": [
    "def solution(name):\n",
    "    ALP = ['A','B','C','D','E','F','G','H','I','J','K','L','M','N'\n",
    "          ,'O','P','Q','R','S','T','U','V','W','X','Y','Z']\n",
    "    \n",
    "    total_move = 0\n",
    "\n",
    "    # 위,아래 (문자바꾸기)\n",
    "    for char in name:\n",
    "        target_idx = ALP.index(char)\n",
    "        move_front = move_diff_front(target_idx)\n",
    "        move_back = move_diff_back(target_idx, ALP)\n",
    "        \n",
    "        if move_front > move_back:\n",
    "            total_move += move_back\n",
    "        else:\n",
    "            total_move += move_front   \n",
    "    \n",
    "    \n",
    "    # 왼쪽, 오른쪽 (커서 움직이기) Greedy \n",
    "    name_list = list(name)\n",
    "    visited = [0 for i in range(len(name_list))]\n",
    "    \n",
    "    for idx, x in enumerate(name_list):\n",
    "        \n",
    "        if x == ALP[0]:\n",
    "            visited[idx] = 1\n",
    "            \n",
    "    visited[0] = 1\n",
    "    \n",
    "    cur_idx = 0\n",
    "    while 0 in visited:\n",
    "        \n",
    "        if cur_idx == abs(len(visited)+1):\n",
    "            cur_idx = 0\n",
    "        \n",
    "        front_idx = cur_idx\n",
    "        back_idx = cur_idx\n",
    "        \n",
    "        while True:\n",
    "            \n",
    "            front_idx += 1\n",
    "            if visited[front_idx] == 0:\n",
    "                total_move += abs(front_idx-cur_idx)\n",
    "                cur_idx = front_idx\n",
    "                visited[cur_idx] = 1\n",
    "                break\n",
    "               \n",
    "            back_idx -= 1\n",
    "            if visited[back_idx] == 0:\n",
    "                total_move += abs(back_idx-cur_idx)\n",
    "                cur_idx = back_idx\n",
    "                visited[cur_idx] = 1\n",
    "                break\n",
    "            \n",
    "    return total_move\n",
    "\n",
    "\n",
    "def move_diff_front(target_idx):\n",
    "    return target_idx\n",
    "\n",
    "def move_diff_back(target_idx,ALP):\n",
    "    return (len(ALP) - target_idx) \n",
    "\n",
    "\n"
   ]
  },
  {
   "cell_type": "code",
   "execution_count": 19,
   "id": "93967be0",
   "metadata": {},
   "outputs": [
    {
     "name": "stdout",
     "output_type": "stream",
     "text": [
      "0\n",
      "-1 0\n",
      "[1, 1, 1]\n"
     ]
    },
    {
     "data": {
      "text/plain": [
       "11"
      ]
     },
     "execution_count": 19,
     "metadata": {},
     "output_type": "execute_result"
    }
   ],
   "source": [
    "name = \"JAZ\"\n",
    "# J - Z\n",
    "#   \n",
    "solution(name)"
   ]
  },
  {
   "cell_type": "code",
   "execution_count": 20,
   "id": "a7cc6867",
   "metadata": {},
   "outputs": [
    {
     "name": "stdout",
     "output_type": "stream",
     "text": [
      "0\n",
      "1 0\n",
      "[1, 1, 0, 0, 0, 0]\n",
      "1\n",
      "2 0\n",
      "[1, 1, 1, 0, 0, 0]\n",
      "2\n",
      "3 0\n",
      "[1, 1, 1, 1, 0, 0]\n",
      "3\n",
      "4 0\n",
      "[1, 1, 1, 1, 1, 0]\n",
      "4\n",
      "5 0\n",
      "[1, 1, 1, 1, 1, 1]\n"
     ]
    },
    {
     "data": {
      "text/plain": [
       "56"
      ]
     },
     "execution_count": 20,
     "metadata": {},
     "output_type": "execute_result"
    }
   ],
   "source": [
    "name = \"JEROEN\"\n",
    "solution(name)"
   ]
  },
  {
   "cell_type": "code",
   "execution_count": 21,
   "id": "b1157981",
   "metadata": {},
   "outputs": [
    {
     "name": "stdout",
     "output_type": "stream",
     "text": [
      "0\n",
      "-1 0\n",
      "[1, 1, 1]\n"
     ]
    },
    {
     "data": {
      "text/plain": [
       "23"
      ]
     },
     "execution_count": 21,
     "metadata": {},
     "output_type": "execute_result"
    }
   ],
   "source": [
    "name = \"JAN\"\n",
    "solution(name)"
   ]
  },
  {
   "cell_type": "code",
   "execution_count": 22,
   "id": "d030efb7",
   "metadata": {},
   "outputs": [
    {
     "name": "stdout",
     "output_type": "stream",
     "text": [
      "0\n",
      "1 0\n",
      "[1, 1, 1, 1, 1, 1, 1, 1, 1, 1, 1, 0, 0]\n",
      "1\n",
      "-1 0\n",
      "[1, 1, 1, 1, 1, 1, 1, 1, 1, 1, 1, 0, 1]\n",
      "-1\n",
      "-2 0\n",
      "[1, 1, 1, 1, 1, 1, 1, 1, 1, 1, 1, 1, 1]\n"
     ]
    },
    {
     "data": {
      "text/plain": [
       "7"
      ]
     },
     "execution_count": 22,
     "metadata": {},
     "output_type": "execute_result"
    }
   ],
   "source": [
    "name = \"ABAAAAAAAAABB\"\n",
    "# A B - - - - - - - - B - B\n",
    "solution(name)"
   ]
  },
  {
   "cell_type": "code",
   "execution_count": 4,
   "id": "292167e7",
   "metadata": {},
   "outputs": [
    {
     "data": {
      "text/plain": [
       "1"
      ]
     },
     "execution_count": 4,
     "metadata": {},
     "output_type": "execute_result"
    }
   ],
   "source": []
  },
  {
   "cell_type": "code",
   "execution_count": null,
   "id": "e24b42d8",
   "metadata": {},
   "outputs": [],
   "source": []
  }
 ],
 "metadata": {
  "kernelspec": {
   "display_name": "Python 3",
   "language": "python",
   "name": "python3"
  },
  "language_info": {
   "codemirror_mode": {
    "name": "ipython",
    "version": 3
   },
   "file_extension": ".py",
   "mimetype": "text/x-python",
   "name": "python",
   "nbconvert_exporter": "python",
   "pygments_lexer": "ipython3",
   "version": "3.8.8"
  }
 },
 "nbformat": 4,
 "nbformat_minor": 5
}
