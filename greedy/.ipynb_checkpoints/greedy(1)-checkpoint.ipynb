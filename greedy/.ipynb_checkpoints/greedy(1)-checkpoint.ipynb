{
 "cells": [
  {
   "cell_type": "code",
   "execution_count": 129,
   "id": "85551be3",
   "metadata": {},
   "outputs": [],
   "source": [
    "def solution(n, lost, reserve):   \n",
    "    lost_ = [x for x in lost if x not in reserve]\n",
    "    reserve_ = [x for x in reserve if x not in lost]\n",
    "    students = [i+1 for i in range(n) if i+1 not in lost_]\n",
    "    \n",
    "    students.sort()\n",
    "    lost_.sort()\n",
    "    reserve_.sort()\n",
    "    \n",
    "    for i in reserve_:\n",
    "        minus = i-1\n",
    "        plus = i+1\n",
    "        \n",
    "        if minus in lost_:\n",
    "            lost_.remove(minus)\n",
    "            students.append(minus)\n",
    "        elif plus in lost_:\n",
    "            lost_.remove(plus)\n",
    "            students.append(plus)\n",
    "\n",
    "    return len(students)"
   ]
  },
  {
   "cell_type": "code",
   "execution_count": 130,
   "id": "4089d6b7",
   "metadata": {},
   "outputs": [
    {
     "name": "stdout",
     "output_type": "stream",
     "text": [
      "students [1, 3, 5]\n",
      "lost [2, 4]\n",
      "reserve_ [1, 3, 5]\n"
     ]
    },
    {
     "data": {
      "text/plain": [
       "5"
      ]
     },
     "execution_count": 130,
     "metadata": {},
     "output_type": "execute_result"
    }
   ],
   "source": [
    "n = 5\n",
    "lost = [2,4]\n",
    "reserve = [1,3,5]\n",
    "solution(n, lost, reserve)"
   ]
  },
  {
   "cell_type": "code",
   "execution_count": 131,
   "id": "5c881b2e",
   "metadata": {},
   "outputs": [
    {
     "name": "stdout",
     "output_type": "stream",
     "text": [
      "students [1, 3, 5]\n",
      "lost [2, 4]\n",
      "reserve_ [3]\n"
     ]
    },
    {
     "data": {
      "text/plain": [
       "4"
      ]
     },
     "execution_count": 131,
     "metadata": {},
     "output_type": "execute_result"
    }
   ],
   "source": [
    "n = 5\n",
    "lost = [2,4]\n",
    "reserve = [3]\n",
    "solution(n, lost, reserve)"
   ]
  },
  {
   "cell_type": "code",
   "execution_count": 132,
   "id": "56f505f8",
   "metadata": {},
   "outputs": [
    {
     "name": "stdout",
     "output_type": "stream",
     "text": [
      "students [1, 2]\n",
      "lost [3]\n",
      "reserve_ [1]\n"
     ]
    },
    {
     "data": {
      "text/plain": [
       "2"
      ]
     },
     "execution_count": 132,
     "metadata": {},
     "output_type": "execute_result"
    }
   ],
   "source": [
    "n = 3\n",
    "lost = [3]\n",
    "reserve = [1]\n",
    "solution(n, lost, reserve)"
   ]
  },
  {
   "cell_type": "code",
   "execution_count": 133,
   "id": "a634f435",
   "metadata": {},
   "outputs": [
    {
     "name": "stdout",
     "output_type": "stream",
     "text": [
      "students [2, 3, 4, 5]\n",
      "lost [1]\n",
      "reserve_ [4]\n"
     ]
    },
    {
     "data": {
      "text/plain": [
       "4"
      ]
     },
     "execution_count": 133,
     "metadata": {},
     "output_type": "execute_result"
    }
   ],
   "source": [
    "n = 5\n",
    "lost = [1,2,3]\n",
    "reserve = [2,3,4]\n",
    "solution(n, lost, reserve)"
   ]
  },
  {
   "cell_type": "code",
   "execution_count": 134,
   "id": "a0f5a273",
   "metadata": {},
   "outputs": [
    {
     "name": "stdout",
     "output_type": "stream",
     "text": [
      "students [2, 3, 4, 5]\n",
      "lost [1]\n",
      "reserve_ [4]\n"
     ]
    },
    {
     "data": {
      "text/plain": [
       "4"
      ]
     },
     "execution_count": 134,
     "metadata": {},
     "output_type": "execute_result"
    }
   ],
   "source": [
    "n = 5\n",
    "lost = [1,2,3]\n",
    "reserve = [2,3,4]\n",
    "solution(n, lost, reserve)"
   ]
  },
  {
   "cell_type": "code",
   "execution_count": 135,
   "id": "da1b8df2",
   "metadata": {},
   "outputs": [
    {
     "name": "stdout",
     "output_type": "stream",
     "text": [
      "students [1, 3, 5]\n",
      "lost [2, 4]\n",
      "reserve_ [3, 5]\n"
     ]
    },
    {
     "data": {
      "text/plain": [
       "5"
      ]
     },
     "execution_count": 135,
     "metadata": {},
     "output_type": "execute_result"
    }
   ],
   "source": [
    "n = 5\n",
    "lost = [2,4]\n",
    "reserve = [3,5]\n",
    "solution(n, lost, reserve)"
   ]
  },
  {
   "cell_type": "code",
   "execution_count": null,
   "id": "d31d7e27",
   "metadata": {},
   "outputs": [],
   "source": []
  },
  {
   "cell_type": "code",
   "execution_count": null,
   "id": "c2b6e3b8",
   "metadata": {},
   "outputs": [],
   "source": []
  }
 ],
 "metadata": {
  "kernelspec": {
   "display_name": "Python 3",
   "language": "python",
   "name": "python3"
  },
  "language_info": {
   "codemirror_mode": {
    "name": "ipython",
    "version": 3
   },
   "file_extension": ".py",
   "mimetype": "text/x-python",
   "name": "python",
   "nbconvert_exporter": "python",
   "pygments_lexer": "ipython3",
   "version": "3.8.8"
  }
 },
 "nbformat": 4,
 "nbformat_minor": 5
}
