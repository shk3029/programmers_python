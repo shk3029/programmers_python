{
 "cells": [
  {
   "cell_type": "code",
   "execution_count": 80,
   "id": "132d3b16",
   "metadata": {},
   "outputs": [],
   "source": [
    "def solution(people, limit):\n",
    "    result = 0\n",
    "    boats = []   \n",
    "    \n",
    "    people.sort(reverse=True)\n",
    "\n",
    "    while people:\n",
    "        isBoat = False\n",
    "        one = people.pop(0)\n",
    "        \n",
    "        for idx in range(len(boats)):\n",
    "            if one + boats[idx] <= limit:\n",
    "                result += 1\n",
    "                isBoat = True\n",
    "                del(boats[idx])\n",
    "                break\n",
    "                \n",
    "        if not isBoat:\n",
    "            boats.append(one)\n",
    "    \n",
    "    return len(boats) + result"
   ]
  },
  {
   "cell_type": "code",
   "execution_count": 95,
   "id": "fbe8d068",
   "metadata": {},
   "outputs": [
    {
     "name": "stdout",
     "output_type": "stream",
     "text": [
      "[50, 50, 70, 80]\n",
      "[80, 70, 50, 50]\n"
     ]
    },
    {
     "data": {
      "text/plain": [
       "0"
      ]
     },
     "execution_count": 95,
     "metadata": {},
     "output_type": "execute_result"
    }
   ],
   "source": [
    "people = [70, 50, 80, 50]\n",
    "limit = 100\n",
    "solution(people, limit)"
   ]
  },
  {
   "cell_type": "code",
   "execution_count": 96,
   "id": "5bff2e87",
   "metadata": {},
   "outputs": [
    {
     "name": "stdout",
     "output_type": "stream",
     "text": [
      "[50, 70, 80]\n",
      "[80, 70, 50]\n"
     ]
    },
    {
     "data": {
      "text/plain": [
       "0"
      ]
     },
     "execution_count": 96,
     "metadata": {},
     "output_type": "execute_result"
    }
   ],
   "source": [
    "people = [70, 80, 50]\n",
    "limit = 100\n",
    "solution(people, limit)"
   ]
  },
  {
   "cell_type": "code",
   "execution_count": 97,
   "id": "17e8712c",
   "metadata": {},
   "outputs": [
    {
     "name": "stdout",
     "output_type": "stream",
     "text": [
      "[40, 50, 150, 160]\n",
      "[160, 150, 50, 40]\n"
     ]
    },
    {
     "data": {
      "text/plain": [
       "0"
      ]
     },
     "execution_count": 97,
     "metadata": {},
     "output_type": "execute_result"
    }
   ],
   "source": [
    "people = [40,50,150,160]\n",
    "limit = 200\n",
    "solution(people, limit)"
   ]
  },
  {
   "cell_type": "code",
   "execution_count": 98,
   "id": "b02f2f39",
   "metadata": {},
   "outputs": [
    {
     "name": "stdout",
     "output_type": "stream",
     "text": [
      "[100, 500, 500, 900, 950]\n",
      "[950, 900, 500, 500, 100]\n"
     ]
    },
    {
     "data": {
      "text/plain": [
       "0"
      ]
     },
     "execution_count": 98,
     "metadata": {},
     "output_type": "execute_result"
    }
   ],
   "source": [
    "people = [100,500,500,900,950]\n",
    "limit = 1000\n",
    "solution(people, limit)"
   ]
  },
  {
   "cell_type": "code",
   "execution_count": 99,
   "id": "dd684d3f",
   "metadata": {},
   "outputs": [
    {
     "name": "stdout",
     "output_type": "stream",
     "text": [
      "[10, 20, 20, 80]\n",
      "[80, 20, 20, 10]\n"
     ]
    },
    {
     "data": {
      "text/plain": [
       "0"
      ]
     },
     "execution_count": 99,
     "metadata": {},
     "output_type": "execute_result"
    }
   ],
   "source": [
    "people = [10,20,80,20]\n",
    "limit = 129\n",
    "solution(people, limit)"
   ]
  },
  {
   "cell_type": "code",
   "execution_count": null,
   "id": "1233cdb6",
   "metadata": {},
   "outputs": [],
   "source": []
  },
  {
   "cell_type": "code",
   "execution_count": null,
   "id": "7d94b65c",
   "metadata": {},
   "outputs": [],
   "source": []
  },
  {
   "cell_type": "code",
   "execution_count": null,
   "id": "bbf62343",
   "metadata": {},
   "outputs": [],
   "source": []
  },
  {
   "cell_type": "code",
   "execution_count": null,
   "id": "57db78ec",
   "metadata": {},
   "outputs": [],
   "source": []
  }
 ],
 "metadata": {
  "kernelspec": {
   "display_name": "Python 3",
   "language": "python",
   "name": "python3"
  },
  "language_info": {
   "codemirror_mode": {
    "name": "ipython",
    "version": 3
   },
   "file_extension": ".py",
   "mimetype": "text/x-python",
   "name": "python",
   "nbconvert_exporter": "python",
   "pygments_lexer": "ipython3",
   "version": "3.8.8"
  }
 },
 "nbformat": 4,
 "nbformat_minor": 5
}
