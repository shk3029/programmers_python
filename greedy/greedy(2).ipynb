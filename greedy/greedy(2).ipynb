{
 "cells": [
  {
   "cell_type": "code",
   "execution_count": 42,
   "id": "432fb9e4",
   "metadata": {},
   "outputs": [],
   "source": [
    "def solution(name):\n",
    "    ALP = ['A','B','C','D','E','F','G','H','I','J','K','L','M','N'\n",
    "          ,'O','P','Q','R','S','T','U','V','W','X','Y','Z']\n",
    "    \n",
    "    total_move = 0\n",
    "\n",
    "    # 위,아래 (문자바꾸기)\n",
    "    for char in name:\n",
    "        target_idx = ALP.index(char)\n",
    "        move_front = move_diff_front(target_idx)\n",
    "        move_back = move_diff_back(target_idx, ALP)\n",
    "        \n",
    "        if move_front > move_back:\n",
    "            total_move += move_back\n",
    "        else:\n",
    "            total_move += move_front   \n",
    "    \n",
    "    \n",
    "    # 왼쪽, 오른쪽 (커서 움직이기) Greedy \n",
    "    idx_move = 1\n",
    "    name_list = list(name)\n",
    "    visited = [0 for i in range(len(name_list))]\n",
    "    \n",
    "    for idx, x in enumerate(name_list):\n",
    "        \n",
    "        if x == ALP[0]:\n",
    "            visited[idx] = 1\n",
    "            \n",
    "    print(visited)\n",
    "    print(name_list)\n",
    "    \n",
    "    visited[0] = 1\n",
    "    \n",
    "    cur_idx = 0\n",
    "    while 1 in visited:\n",
    "        \n",
    "        front_idx = cur_idx\n",
    "        back_idx = cur_idx\n",
    "        \n",
    "        while True:\n",
    "            \n",
    "            front_idx += 1\n",
    "            if visited[front_idx] == 0:\n",
    "                print(front_idx, visited[front_idx])\n",
    "    \n",
    "            back_idx -= 1\n",
    "            if visited[back_idx] == 0:\n",
    "                print(back_idx, visited[back_idx])\n",
    "            \n",
    "        \n",
    "        if front_idx > back_idx:\n",
    "            cur_idx = back_idx\n",
    "        else: \n",
    "            cur_idx = front_idx\n",
    "\n",
    "    return total_move\n",
    "\n",
    "\n",
    "def move_diff_front(target_idx):\n",
    "    return target_idx\n",
    "\n",
    "def move_diff_back(target_idx,ALP):\n",
    "    return (len(ALP) - target_idx) \n",
    "\n",
    "\n"
   ]
  },
  {
   "cell_type": "code",
   "execution_count": 43,
   "id": "93967be0",
   "metadata": {},
   "outputs": [
    {
     "name": "stdout",
     "output_type": "stream",
     "text": [
      "[0, 1, 0]\n",
      "['J', 'A', 'Z']\n",
      "-1 0\n",
      "2 0\n"
     ]
    },
    {
     "ename": "IndexError",
     "evalue": "list index out of range",
     "output_type": "error",
     "traceback": [
      "\u001b[0;31m---------------------------------------------------------------------------\u001b[0m",
      "\u001b[0;31mIndexError\u001b[0m                                Traceback (most recent call last)",
      "\u001b[0;32m<ipython-input-43-325434aacc44>\u001b[0m in \u001b[0;36m<module>\u001b[0;34m\u001b[0m\n\u001b[1;32m      2\u001b[0m \u001b[0;31m# J - Z\u001b[0m\u001b[0;34m\u001b[0m\u001b[0;34m\u001b[0m\u001b[0;34m\u001b[0m\u001b[0m\n\u001b[1;32m      3\u001b[0m \u001b[0;31m#\u001b[0m\u001b[0;34m\u001b[0m\u001b[0;34m\u001b[0m\u001b[0;34m\u001b[0m\u001b[0m\n\u001b[0;32m----> 4\u001b[0;31m \u001b[0msolution\u001b[0m\u001b[0;34m(\u001b[0m\u001b[0mname\u001b[0m\u001b[0;34m)\u001b[0m\u001b[0;34m\u001b[0m\u001b[0;34m\u001b[0m\u001b[0m\n\u001b[0m",
      "\u001b[0;32m<ipython-input-42-5bee6af40a22>\u001b[0m in \u001b[0;36msolution\u001b[0;34m(name)\u001b[0m\n\u001b[1;32m     46\u001b[0m \u001b[0;34m\u001b[0m\u001b[0m\n\u001b[1;32m     47\u001b[0m             \u001b[0mback_idx\u001b[0m \u001b[0;34m-=\u001b[0m \u001b[0;36m1\u001b[0m\u001b[0;34m\u001b[0m\u001b[0;34m\u001b[0m\u001b[0m\n\u001b[0;32m---> 48\u001b[0;31m             \u001b[0;32mif\u001b[0m \u001b[0mvisited\u001b[0m\u001b[0;34m[\u001b[0m\u001b[0mback_idx\u001b[0m\u001b[0;34m]\u001b[0m \u001b[0;34m==\u001b[0m \u001b[0;36m0\u001b[0m\u001b[0;34m:\u001b[0m\u001b[0;34m\u001b[0m\u001b[0;34m\u001b[0m\u001b[0m\n\u001b[0m\u001b[1;32m     49\u001b[0m                 \u001b[0mprint\u001b[0m\u001b[0;34m(\u001b[0m\u001b[0mback_idx\u001b[0m\u001b[0;34m,\u001b[0m \u001b[0mvisited\u001b[0m\u001b[0;34m[\u001b[0m\u001b[0mback_idx\u001b[0m\u001b[0;34m]\u001b[0m\u001b[0;34m)\u001b[0m\u001b[0;34m\u001b[0m\u001b[0;34m\u001b[0m\u001b[0m\n\u001b[1;32m     50\u001b[0m                 \u001b[0;32mbreak\u001b[0m\u001b[0;34m\u001b[0m\u001b[0;34m\u001b[0m\u001b[0m\n",
      "\u001b[0;31mIndexError\u001b[0m: list index out of range"
     ]
    }
   ],
   "source": [
    "name = \"JAZ\"\n",
    "# J - Z\n",
    "#   \n",
    "solution(name)"
   ]
  },
  {
   "cell_type": "code",
   "execution_count": 37,
   "id": "a7cc6867",
   "metadata": {},
   "outputs": [
    {
     "name": "stdout",
     "output_type": "stream",
     "text": [
      "[0, 0, 0, 0, 0, 0]\n",
      "['J', 'E', 'R', 'O', 'E', 'N']\n",
      "-1\n",
      "-2\n",
      "-3\n",
      "-4\n",
      "-5\n",
      "-6\n",
      "-7\n"
     ]
    },
    {
     "ename": "IndexError",
     "evalue": "list index out of range",
     "output_type": "error",
     "traceback": [
      "\u001b[0;31m---------------------------------------------------------------------------\u001b[0m",
      "\u001b[0;31mIndexError\u001b[0m                                Traceback (most recent call last)",
      "\u001b[0;32m<ipython-input-37-28a644171288>\u001b[0m in \u001b[0;36m<module>\u001b[0;34m\u001b[0m\n\u001b[1;32m      1\u001b[0m \u001b[0mname\u001b[0m \u001b[0;34m=\u001b[0m \u001b[0;34m\"JEROEN\"\u001b[0m\u001b[0;34m\u001b[0m\u001b[0;34m\u001b[0m\u001b[0m\n\u001b[0;32m----> 2\u001b[0;31m \u001b[0msolution\u001b[0m\u001b[0;34m(\u001b[0m\u001b[0mname\u001b[0m\u001b[0;34m)\u001b[0m\u001b[0;34m\u001b[0m\u001b[0;34m\u001b[0m\u001b[0m\n\u001b[0m",
      "\u001b[0;32m<ipython-input-35-39d139a92e8e>\u001b[0m in \u001b[0;36msolution\u001b[0;34m(name)\u001b[0m\n\u001b[1;32m     48\u001b[0m             \u001b[0mback_idx\u001b[0m \u001b[0;34m-=\u001b[0m \u001b[0;36m1\u001b[0m\u001b[0;34m\u001b[0m\u001b[0;34m\u001b[0m\u001b[0m\n\u001b[1;32m     49\u001b[0m             \u001b[0mprint\u001b[0m\u001b[0;34m(\u001b[0m\u001b[0mback_idx\u001b[0m\u001b[0;34m)\u001b[0m\u001b[0;34m\u001b[0m\u001b[0;34m\u001b[0m\u001b[0m\n\u001b[0;32m---> 50\u001b[0;31m             \u001b[0;32mif\u001b[0m \u001b[0mvisited\u001b[0m\u001b[0;34m[\u001b[0m\u001b[0mback_idx\u001b[0m\u001b[0;34m]\u001b[0m \u001b[0;34m==\u001b[0m \u001b[0;36m0\u001b[0m\u001b[0;34m:\u001b[0m\u001b[0;34m\u001b[0m\u001b[0;34m\u001b[0m\u001b[0m\n\u001b[0m\u001b[1;32m     51\u001b[0m                 \u001b[0;32mbreak\u001b[0m\u001b[0;34m\u001b[0m\u001b[0;34m\u001b[0m\u001b[0m\n\u001b[1;32m     52\u001b[0m \u001b[0;34m\u001b[0m\u001b[0m\n",
      "\u001b[0;31mIndexError\u001b[0m: list index out of range"
     ]
    }
   ],
   "source": [
    "name = \"JEROEN\"\n",
    "solution(name)"
   ]
  },
  {
   "cell_type": "code",
   "execution_count": 25,
   "id": "b1157981",
   "metadata": {},
   "outputs": [
    {
     "name": "stdout",
     "output_type": "stream",
     "text": [
      "[0, 1, 0]\n",
      "['J', 'A', 'N']\n"
     ]
    },
    {
     "data": {
      "text/plain": [
       "22"
      ]
     },
     "execution_count": 25,
     "metadata": {},
     "output_type": "execute_result"
    }
   ],
   "source": [
    "name = \"JAN\"\n",
    "solution(name)"
   ]
  },
  {
   "cell_type": "code",
   "execution_count": 26,
   "id": "d030efb7",
   "metadata": {},
   "outputs": [
    {
     "name": "stdout",
     "output_type": "stream",
     "text": [
      "[1, 0, 1, 1, 1, 1, 1, 1, 1, 1, 1, 0, 0]\n",
      "['A', 'B', 'A', 'A', 'A', 'A', 'A', 'A', 'A', 'A', 'A', 'B', 'B']\n"
     ]
    },
    {
     "data": {
      "text/plain": [
       "3"
      ]
     },
     "execution_count": 26,
     "metadata": {},
     "output_type": "execute_result"
    }
   ],
   "source": [
    "name = \"ABAAAAAAAAABB\"\n",
    "# A B - - - - - - - - B - B\n",
    "solution(name)"
   ]
  },
  {
   "cell_type": "code",
   "execution_count": null,
   "id": "292167e7",
   "metadata": {},
   "outputs": [],
   "source": []
  },
  {
   "cell_type": "code",
   "execution_count": null,
   "id": "e24b42d8",
   "metadata": {},
   "outputs": [],
   "source": []
  }
 ],
 "metadata": {
  "kernelspec": {
   "display_name": "Python 3",
   "language": "python",
   "name": "python3"
  },
  "language_info": {
   "codemirror_mode": {
    "name": "ipython",
    "version": 3
   },
   "file_extension": ".py",
   "mimetype": "text/x-python",
   "name": "python",
   "nbconvert_exporter": "python",
   "pygments_lexer": "ipython3",
   "version": "3.8.8"
  }
 },
 "nbformat": 4,
 "nbformat_minor": 5
}
