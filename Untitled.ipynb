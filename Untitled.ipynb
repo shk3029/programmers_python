{
 "cells": [
  {
   "cell_type": "code",
   "execution_count": 19,
   "id": "0f32eaaf",
   "metadata": {},
   "outputs": [
    {
     "name": "stdout",
     "output_type": "stream",
     "text": [
      "[9, 9, 5]\n",
      "[9, 9, 4, 1]\n",
      "[9, 9, 3, 2]\n",
      "[9, 8, 6]\n",
      "[9, 8, 5, 1]\n",
      "[9, 8, 4, 2]\n",
      "[9, 8, 3, 3]\n",
      "[9, 7, 7]\n",
      "[9, 7, 6, 1]\n",
      "[9, 7, 5, 2]\n",
      "[9, 7, 4, 3]\n",
      "[9, 6, 6, 2]\n",
      "[9, 6, 5, 3]\n",
      "[9, 6, 4, 4]\n",
      "[9, 5, 5, 4]\n",
      "[8, 8, 7]\n",
      "[8, 8, 6, 1]\n",
      "[8, 8, 5, 2]\n",
      "[8, 8, 4, 3]\n",
      "[8, 7, 7, 1]\n",
      "[8, 7, 6, 2]\n",
      "[8, 7, 5, 3]\n",
      "[8, 7, 4, 4]\n",
      "[8, 6, 6, 3]\n",
      "[8, 6, 5, 4]\n",
      "[8, 5, 5, 5]\n",
      "[7, 7, 7, 2]\n",
      "[7, 7, 6, 3]\n",
      "[7, 7, 5, 4]\n",
      "[7, 6, 6, 4]\n",
      "[7, 6, 5, 5]\n",
      "[6, 6, 6, 5]\n"
     ]
    }
   ],
   "source": [
    "import sys\n",
    "input = sys.stdin.readline\n",
    "\n",
    "def solution(n):\n",
    "    number = [n]\n",
    "    answer = []\n",
    "    while True:\n",
    "        answer.append(number.copy())\n",
    "        temp = number.pop()\n",
    "        if temp != 1:\n",
    "            number.append(temp - 1)\n",
    "            number.append(1)\n",
    "        else:\n",
    "            sum = 2\n",
    "            for _ in range(len(number)):\n",
    "                if number and number[-1] == 1:\n",
    "                    sum += 1\n",
    "                    number.pop()\n",
    "            if not number:\n",
    "                break\n",
    "            pivot = number.pop() - 1\n",
    "            number.append(pivot)\n",
    "            while sum > pivot:\n",
    "                number.append(pivot)\n",
    "                sum -= pivot\n",
    "            number.append(sum)\n",
    "    return answer\n",
    "\n",
    "for i in solution(23):\n",
    "    if len(i) <= 4 and len(i) >1 :\n",
    "        a = True\n",
    "        for num in i:\n",
    "            if num > 9:\n",
    "                a = False\n",
    "        if a:\n",
    "            print(i)"
   ]
  },
  {
   "cell_type": "code",
   "execution_count": null,
   "id": "289e6553",
   "metadata": {},
   "outputs": [],
   "source": []
  }
 ],
 "metadata": {
  "kernelspec": {
   "display_name": "Python 3",
   "language": "python",
   "name": "python3"
  },
  "language_info": {
   "codemirror_mode": {
    "name": "ipython",
    "version": 3
   },
   "file_extension": ".py",
   "mimetype": "text/x-python",
   "name": "python",
   "nbconvert_exporter": "python",
   "pygments_lexer": "ipython3",
   "version": "3.8.8"
  }
 },
 "nbformat": 4,
 "nbformat_minor": 5
}
