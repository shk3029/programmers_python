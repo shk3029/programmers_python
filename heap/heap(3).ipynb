{
 "cells": [
  {
   "cell_type": "code",
   "execution_count": 67,
   "id": "4cbe7801",
   "metadata": {},
   "outputs": [],
   "source": [
    "import heapq\n",
    "\n",
    "def solution(operations):\n",
    "    hq = Hq()\n",
    "    for operation in operations:\n",
    "        hq.operation(operation)\n",
    "    return hq.result()\n",
    "\n",
    "class Hq:\n",
    "    def __init__(self):\n",
    "        self.data = []\n",
    "     \n",
    "    def checkEmpty(self):\n",
    "        if not self.data:\n",
    "            return True\n",
    "        else: return False\n",
    "        \n",
    "    def removeMaxValue(self):\n",
    "        self.data = list(map(lambda x:-x, self.data))\n",
    "        heapq.heapify(self.data)\n",
    "        self.data = list(map(lambda x:-x, self.data))\n",
    "        heapq.heappop(self.data)\n",
    "\n",
    "    def removeMinValue(self):\n",
    "        heapq.heapify(self.data)\n",
    "        heapq.heappop(self.data)\n",
    "        \n",
    "    def operation(self, data):\n",
    "        split_data = data.split(' ')\n",
    "        \n",
    "        if split_data[0] == 'I':\n",
    "            self.data.append(int(split_data[1]))\n",
    "            print(self.data)\n",
    "        elif split_data[0] == 'D':\n",
    "            if self.checkEmpty():\n",
    "                return\n",
    "            else :\n",
    "                if int(split_data[1]) == 1:\n",
    "                    self.removeMaxValue()\n",
    "                elif int(split_data[1]) == -1:\n",
    "                    self.removeMinValue()\n",
    "    def result(self):\n",
    "        if self.checkEmpty():\n",
    "            return [0,0]\n",
    "        self.data.sort()\n",
    "        return [self.data[len(self.data)-1], self.data[0]]"
   ]
  },
  {
   "cell_type": "code",
   "execution_count": 68,
   "id": "092f0a81",
   "metadata": {},
   "outputs": [
    {
     "name": "stdout",
     "output_type": "stream",
     "text": [
      "[16]\n"
     ]
    },
    {
     "data": {
      "text/plain": [
       "[0, 0]"
      ]
     },
     "execution_count": 68,
     "metadata": {},
     "output_type": "execute_result"
    }
   ],
   "source": [
    "operations = [\"I 16\", \"D 1\"]\n",
    "solution(operations)"
   ]
  },
  {
   "cell_type": "code",
   "execution_count": 69,
   "id": "02fbdb97",
   "metadata": {},
   "outputs": [
    {
     "name": "stdout",
     "output_type": "stream",
     "text": [
      "[7]\n",
      "[7, 5]\n",
      "[7, 5, -5]\n"
     ]
    },
    {
     "data": {
      "text/plain": [
       "[7, 5]"
      ]
     },
     "execution_count": 69,
     "metadata": {},
     "output_type": "execute_result"
    }
   ],
   "source": [
    "operations = [\"I 7\", \"I 5\", \"I -5\", \"D -1\"]\n",
    "solution(operations)"
   ]
  },
  {
   "cell_type": "code",
   "execution_count": 70,
   "id": "197ad68a",
   "metadata": {},
   "outputs": [
    {
     "name": "stdout",
     "output_type": "stream",
     "text": [
      "[-45]\n",
      "[-45, 653]\n",
      "[-45, -642]\n",
      "[-45, -642, 45]\n",
      "[-45, -642, 45, 97]\n",
      "[-45, 45, 333]\n"
     ]
    },
    {
     "data": {
      "text/plain": [
       "[333, -45]"
      ]
     },
     "execution_count": 70,
     "metadata": {},
     "output_type": "execute_result"
    }
   ],
   "source": [
    "operations =[\"I -45\", \"I 653\", \"D 1\", \"I -642\", \"I 45\", \"I 97\", \"D 1\", \"D -1\", \"I 333\"]\n",
    "solution(operations)"
   ]
  },
  {
   "cell_type": "code",
   "execution_count": null,
   "id": "82e4d890",
   "metadata": {},
   "outputs": [],
   "source": []
  },
  {
   "cell_type": "code",
   "execution_count": null,
   "id": "5eb8ef62",
   "metadata": {},
   "outputs": [],
   "source": []
  }
 ],
 "metadata": {
  "kernelspec": {
   "display_name": "Python 3",
   "language": "python",
   "name": "python3"
  },
  "language_info": {
   "codemirror_mode": {
    "name": "ipython",
    "version": 3
   },
   "file_extension": ".py",
   "mimetype": "text/x-python",
   "name": "python",
   "nbconvert_exporter": "python",
   "pygments_lexer": "ipython3",
   "version": "3.8.8"
  }
 },
 "nbformat": 4,
 "nbformat_minor": 5
}
