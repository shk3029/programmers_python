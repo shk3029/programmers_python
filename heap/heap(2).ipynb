{
 "cells": [
  {
   "cell_type": "code",
   "execution_count": 344,
   "id": "73e3ebeb",
   "metadata": {},
   "outputs": [],
   "source": [
    "import heapq\n",
    "\n",
    "def solution(jobs):\n",
    "    jobs.sort()\n",
    "    time = 0\n",
    "    job_list = []\n",
    "        \n",
    "    while jobs:\n",
    "        wait_jobs = [[y,x] for x,y in jobs if time >= x]\n",
    "\n",
    "        if wait_jobs:\n",
    "            heapq.heapify(wait_jobs)\n",
    "            cur_job = heapq.heappop(wait_jobs)\n",
    "            cur_job.reverse()\n",
    "            job_list.append(cur_job[1] + time - cur_job[0])\n",
    "            time += cur_job[1]\n",
    "            jobs.remove(cur_job)\n",
    "        else:\n",
    "            cur_job = jobs.pop(0)\n",
    "            job_list.append(cur_job[1])\n",
    "            time = cur_job[1] + cur_job[0]\n",
    "\n",
    "    return int(sum(job_list) / len(job_list))"
   ]
  },
  {
   "cell_type": "code",
   "execution_count": 345,
   "id": "dd311044",
   "metadata": {
    "scrolled": false
   },
   "outputs": [
    {
     "name": "stdout",
     "output_type": "stream",
     "text": [
      "[3, 7, 17, 9]\n"
     ]
    },
    {
     "data": {
      "text/plain": [
       "9"
      ]
     },
     "execution_count": 345,
     "metadata": {},
     "output_type": "execute_result"
    }
   ],
   "source": [
    "jobs = [[0, 3], [10,1],[1, 9], [2, 6]]\n",
    "###\n",
    "# 0 1 2 3\n",
    "# \n",
    "#\n",
    "solution(jobs)"
   ]
  },
  {
   "cell_type": "code",
   "execution_count": 346,
   "id": "67d5e7b6",
   "metadata": {},
   "outputs": [
    {
     "name": "stdout",
     "output_type": "stream",
     "text": [
      "[3, 7, 17]\n"
     ]
    },
    {
     "data": {
      "text/plain": [
       "9"
      ]
     },
     "execution_count": 346,
     "metadata": {},
     "output_type": "execute_result"
    }
   ],
   "source": [
    "jobs = [[0, 3], [1, 9], [2, 6]]\n",
    "solution(jobs)"
   ]
  },
  {
   "cell_type": "code",
   "execution_count": 347,
   "id": "50ee2fe0",
   "metadata": {},
   "outputs": [
    {
     "name": "stdout",
     "output_type": "stream",
     "text": [
      "[10, 11, 7]\n"
     ]
    },
    {
     "data": {
      "text/plain": [
       "9"
      ]
     },
     "execution_count": 347,
     "metadata": {},
     "output_type": "execute_result"
    }
   ],
   "source": [
    "jobs = [[0,10], [2,3], [9,3]]\n",
    "solution(jobs)"
   ]
  },
  {
   "cell_type": "code",
   "execution_count": 348,
   "id": "c06df2cc",
   "metadata": {},
   "outputs": [
    {
     "name": "stdout",
     "output_type": "stream",
     "text": [
      "11\n",
      "[10, 11, 7]\n"
     ]
    },
    {
     "data": {
      "text/plain": [
       "9"
      ]
     },
     "execution_count": 348,
     "metadata": {},
     "output_type": "execute_result"
    }
   ],
   "source": [
    "jobs = [[1,10],[3,3],[10,3]]\n",
    "solution(jobs) \n",
    "#   1 2 3 4 5 6 7 8 9 10  (10) \n",
    "#       1 2 3 4 5 6 7 8  9 10 11 (11)\n",
    "#                    1  2  3  4 5 6 7 (7)  "
   ]
  },
  {
   "cell_type": "code",
   "execution_count": 349,
   "id": "3f23e5ed",
   "metadata": {},
   "outputs": [
    {
     "name": "stdout",
     "output_type": "stream",
     "text": [
      "[10]\n"
     ]
    },
    {
     "data": {
      "text/plain": [
       "10"
      ]
     },
     "execution_count": 349,
     "metadata": {},
     "output_type": "execute_result"
    }
   ],
   "source": [
    "jobs = [[0,10]]\n",
    "solution(jobs)"
   ]
  },
  {
   "cell_type": "code",
   "execution_count": 350,
   "id": "471cb6fd",
   "metadata": {},
   "outputs": [
    {
     "name": "stdout",
     "output_type": "stream",
     "text": [
      "[10, 16, 7, 28]\n"
     ]
    },
    {
     "data": {
      "text/plain": [
       "15"
      ]
     },
     "execution_count": 350,
     "metadata": {},
     "output_type": "execute_result"
    }
   ],
   "source": [
    "jobs = [[0,10], [4,10], [5,11], [15,2]]\n",
    "solution(jobs)"
   ]
  },
  {
   "cell_type": "code",
   "execution_count": null,
   "id": "26d38133",
   "metadata": {},
   "outputs": [],
   "source": []
  },
  {
   "cell_type": "code",
   "execution_count": null,
   "id": "66508a0c",
   "metadata": {},
   "outputs": [],
   "source": []
  }
 ],
 "metadata": {
  "kernelspec": {
   "display_name": "Python 3",
   "language": "python",
   "name": "python3"
  },
  "language_info": {
   "codemirror_mode": {
    "name": "ipython",
    "version": 3
   },
   "file_extension": ".py",
   "mimetype": "text/x-python",
   "name": "python",
   "nbconvert_exporter": "python",
   "pygments_lexer": "ipython3",
   "version": "3.8.8"
  }
 },
 "nbformat": 4,
 "nbformat_minor": 5
}
