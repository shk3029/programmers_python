{
 "cells": [
  {
   "cell_type": "code",
   "execution_count": 18,
   "id": "015dcda9",
   "metadata": {},
   "outputs": [],
   "source": [
    "def solution(array, commands):\n",
    "    result = []\n",
    "    for x in commands:\n",
    "        start, end, target = x[0]-1, x[1], x[2]-1\n",
    "        target_list = array[start:end]\n",
    "        target_list.sort()\n",
    "        result.append(target_list[target])\n",
    "    return result"
   ]
  },
  {
   "cell_type": "code",
   "execution_count": 19,
   "id": "68574f6a",
   "metadata": {},
   "outputs": [
    {
     "data": {
      "text/plain": [
       "[5, 6, 3]"
      ]
     },
     "execution_count": 19,
     "metadata": {},
     "output_type": "execute_result"
    }
   ],
   "source": [
    "array = [1,5,2,6,3,7,4]\n",
    "commands = [[2,5,3], [4,4,1], [1,7,3]]\n",
    "solution(array, commands)\n",
    "# return [5,6,3]"
   ]
  },
  {
   "cell_type": "code",
   "execution_count": 20,
   "id": "53fdab61",
   "metadata": {},
   "outputs": [],
   "source": [
    "# 사람들 풀이\n",
    "def solution(array, commands):\n",
    "    return list(map(lambda x:sorted(array[x[0]-1:x[1]])[x[2]-1], commands))"
   ]
  },
  {
   "cell_type": "code",
   "execution_count": 21,
   "id": "7235505f",
   "metadata": {},
   "outputs": [
    {
     "data": {
      "text/plain": [
       "[5, 6, 3]"
      ]
     },
     "execution_count": 21,
     "metadata": {},
     "output_type": "execute_result"
    }
   ],
   "source": [
    "array = [1,5,2,6,3,7,4]\n",
    "commands = [[2,5,3], [4,4,1], [1,7,3]]\n",
    "solution(array, commands)\n",
    "# return [5,6,3]"
   ]
  },
  {
   "cell_type": "code",
   "execution_count": null,
   "id": "be46eea9",
   "metadata": {},
   "outputs": [],
   "source": []
  }
 ],
 "metadata": {
  "kernelspec": {
   "display_name": "Python 3",
   "language": "python",
   "name": "python3"
  },
  "language_info": {
   "codemirror_mode": {
    "name": "ipython",
    "version": 3
   },
   "file_extension": ".py",
   "mimetype": "text/x-python",
   "name": "python",
   "nbconvert_exporter": "python",
   "pygments_lexer": "ipython3",
   "version": "3.8.8"
  }
 },
 "nbformat": 4,
 "nbformat_minor": 5
}
