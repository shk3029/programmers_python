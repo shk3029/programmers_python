{
 "cells": [
  {
   "cell_type": "code",
   "execution_count": 29,
   "id": "575eaa72",
   "metadata": {},
   "outputs": [],
   "source": [
    "def solution(numbers):\n",
    "    if len(numbers) <= 1:\n",
    "        return numbers\n",
    "    \n",
    "    pivot = numbers[len(numbers)//2]\n",
    "    \n",
    "    print((str(pivot))[0])\n",
    "    \n",
    "    lesser_list = [num for num in numbers if int(str(num)[0]) < int(str(pivot)[0])]\n",
    "    equal_list = [num for num in numbers if int(str(num)[0]) == int(str(pivot)[0])]\n",
    "    greater_list = [num for num in numbers if int(str(num)[0]) > int(str(pivot)[0])]\n",
    "    \n",
    "    for i in equal_list:\n",
    "        \n",
    "\n",
    "    print(lesser_list)\n",
    "    print(equal_list)\n",
    "    print(greater_list)\n",
    "    \n",
    "    return solution(greater_list) + equal_list + solution(lesser_list)"
   ]
  },
  {
   "cell_type": "code",
   "execution_count": 30,
   "id": "1f6e292d",
   "metadata": {},
   "outputs": [
    {
     "name": "stdout",
     "output_type": "stream",
     "text": [
      "2\n",
      "[10, 11]\n",
      "[2]\n",
      "[6]\n",
      "1\n",
      "[]\n",
      "[10, 11]\n",
      "[]\n"
     ]
    },
    {
     "data": {
      "text/plain": [
       "[6, 2, 10, 11]"
      ]
     },
     "execution_count": 30,
     "metadata": {},
     "output_type": "execute_result"
    }
   ],
   "source": [
    "numbers = [6,10,2,11]\n",
    "solution(numbers) \n",
    "# \"6210\""
   ]
  },
  {
   "cell_type": "code",
   "execution_count": 4,
   "id": "e7a43183",
   "metadata": {},
   "outputs": [
    {
     "data": {
      "text/plain": [
       "0"
      ]
     },
     "execution_count": 4,
     "metadata": {},
     "output_type": "execute_result"
    }
   ],
   "source": [
    "numbers = [3, 30, 34, 5, 9]\n",
    "solution(numbers) \n",
    "# \"9534330\""
   ]
  },
  {
   "cell_type": "code",
   "execution_count": 26,
   "id": "f4f7d5e8",
   "metadata": {},
   "outputs": [
    {
     "name": "stdout",
     "output_type": "stream",
     "text": [
      "[1, 2, 3, 4]\n"
     ]
    }
   ],
   "source": [
    "l = [1,2]\n",
    "l2 = [3,4]\n",
    "print(l + l2)"
   ]
  },
  {
   "cell_type": "code",
   "execution_count": null,
   "id": "25239e1a",
   "metadata": {},
   "outputs": [],
   "source": []
  }
 ],
 "metadata": {
  "kernelspec": {
   "display_name": "Python 3",
   "language": "python",
   "name": "python3"
  },
  "language_info": {
   "codemirror_mode": {
    "name": "ipython",
    "version": 3
   },
   "file_extension": ".py",
   "mimetype": "text/x-python",
   "name": "python",
   "nbconvert_exporter": "python",
   "pygments_lexer": "ipython3",
   "version": "3.8.8"
  }
 },
 "nbformat": 4,
 "nbformat_minor": 5
}
