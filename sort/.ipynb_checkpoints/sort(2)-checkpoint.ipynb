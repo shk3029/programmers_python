{
 "cells": [
  {
   "cell_type": "code",
   "execution_count": 63,
   "id": "575eaa72",
   "metadata": {},
   "outputs": [],
   "source": [
    "def solution(numbers):\n",
    "    result = sol(numbers)\n",
    "    return \"\".join((map(str, result)))\n",
    "\n",
    "def sol(numbers):\n",
    "    if len(numbers) <= 1:\n",
    "        return numbers\n",
    "    \n",
    "    pivot = numbers[len(numbers)//2]\n",
    "\n",
    "    \n",
    "    lesser_list = [num for num in numbers if int(str(num)[0]) < int(str(pivot)[0])]\n",
    "    equal_list = [num for num in numbers if int(str(num)[0]) == int(str(pivot)[0])]\n",
    "    greater_list = [num for num in numbers if int(str(num)[0]) > int(str(pivot)[0])]\n",
    "    \n",
    "    for num in equal_list:\n",
    "        print(num)\n",
    "        for i in range(1, len(str(num))):\n",
    "            if int(str(num)[i]) > int(str(pivot)[i]):\n",
    "                equal_list.remove(num)\n",
    "                greater_list.append(num)\n",
    "                break\n",
    "            elif int(str(num)[i]) < int(str(pivot)[i]):\n",
    "                equal_list.remove(num)\n",
    "                lesser_list.append(num)\n",
    "                break\n",
    "    \n",
    "    return sol(greater_list) + equal_list + sol(lesser_list)"
   ]
  },
  {
   "cell_type": "code",
   "execution_count": 66,
   "id": "1f6e292d",
   "metadata": {},
   "outputs": [
    {
     "name": "stdout",
     "output_type": "stream",
     "text": [
      "10\n",
      "2\n"
     ]
    },
    {
     "data": {
      "text/plain": [
       "'6210'"
      ]
     },
     "execution_count": 66,
     "metadata": {},
     "output_type": "execute_result"
    }
   ],
   "source": [
    "numbers = [6,10,2]\n",
    "solution(numbers) \n",
    "# \"6210\""
   ]
  },
  {
   "cell_type": "code",
   "execution_count": 67,
   "id": "e7a43183",
   "metadata": {},
   "outputs": [
    {
     "name": "stdout",
     "output_type": "stream",
     "text": [
      "3\n",
      "30\n",
      "9\n"
     ]
    },
    {
     "data": {
      "text/plain": [
       "'9533430'"
      ]
     },
     "execution_count": 67,
     "metadata": {},
     "output_type": "execute_result"
    }
   ],
   "source": [
    "numbers = [3, 30, 34, 5, 9]\n",
    "solution(numbers) \n",
    "# \"9534330\""
   ]
  },
  {
   "cell_type": "code",
   "execution_count": null,
   "id": "25239e1a",
   "metadata": {},
   "outputs": [],
   "source": []
  },
  {
   "cell_type": "code",
   "execution_count": null,
   "id": "e91205ba",
   "metadata": {},
   "outputs": [],
   "source": []
  },
  {
   "cell_type": "code",
   "execution_count": null,
   "id": "1818de74",
   "metadata": {},
   "outputs": [],
   "source": []
  }
 ],
 "metadata": {
  "kernelspec": {
   "display_name": "Python 3",
   "language": "python",
   "name": "python3"
  },
  "language_info": {
   "codemirror_mode": {
    "name": "ipython",
    "version": 3
   },
   "file_extension": ".py",
   "mimetype": "text/x-python",
   "name": "python",
   "nbconvert_exporter": "python",
   "pygments_lexer": "ipython3",
   "version": "3.8.8"
  }
 },
 "nbformat": 4,
 "nbformat_minor": 5
}
