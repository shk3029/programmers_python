{
 "cells": [
  {
   "cell_type": "code",
   "execution_count": 171,
   "id": "575eaa72",
   "metadata": {},
   "outputs": [],
   "source": [
    "def solution(numbers):\n",
    "    result = sol(numbers)\n",
    "    return \"\".join((map(str, result)))\n",
    "\n",
    "def sol(numbers):\n",
    "    if len(numbers) <= 1:\n",
    "        return numbers\n",
    "    \n",
    "    pivot = numbers[len(numbers)//2]\n",
    "    \n",
    "    lesser_list = [num for num in numbers if int(str(num)[0]) < int(str(pivot)[0])]\n",
    "    equal_list = [num for num in numbers if int(str(num)[0]) == int(str(pivot)[0])]\n",
    "    greater_list = [num for num in numbers if int(str(num)[0]) > int(str(pivot)[0])]\n",
    "    \n",
    "    print(lesser_list)\n",
    "    print(equal_list)\n",
    "    print(greater_list)\n",
    "    \n",
    "    return 0"
   ]
  },
  {
   "cell_type": "code",
   "execution_count": 179,
   "id": "33c94169",
   "metadata": {},
   "outputs": [],
   "source": [
    "\n",
    "from itertools import permutations \n",
    "\n",
    "def solution(numbers):\n",
    "    for number in numbers:\n",
    "        c = (str(number) * 4)[:4]\n",
    "        print(c)\n",
    "    a = [int(''.join(map(str,tup))) for tup in list(permutations(numbers, len(numbers)))]\n",
    "    a.sort(reverse=True)\n",
    "    return str(a[0])\n",
    "        "
   ]
  },
  {
   "cell_type": "code",
   "execution_count": 180,
   "id": "1f6e292d",
   "metadata": {},
   "outputs": [
    {
     "name": "stdout",
     "output_type": "stream",
     "text": [
      "6666\n",
      "1010\n",
      "2222\n"
     ]
    },
    {
     "data": {
      "text/plain": [
       "'6210'"
      ]
     },
     "execution_count": 180,
     "metadata": {},
     "output_type": "execute_result"
    }
   ],
   "source": [
    "numbers = [6,10,2]\n",
    "solution(numbers) \n",
    "# \"6210\""
   ]
  },
  {
   "cell_type": "code",
   "execution_count": 181,
   "id": "e7a43183",
   "metadata": {},
   "outputs": [
    {
     "name": "stdout",
     "output_type": "stream",
     "text": [
      "3333\n",
      "3030\n",
      "3434\n",
      "5555\n",
      "9999\n"
     ]
    },
    {
     "data": {
      "text/plain": [
       "'9534330'"
      ]
     },
     "execution_count": 181,
     "metadata": {},
     "output_type": "execute_result"
    }
   ],
   "source": [
    "numbers = [3, 30, 34, 5, 9]\n",
    "solution(numbers) \n",
    "# \"9534330\""
   ]
  },
  {
   "cell_type": "code",
   "execution_count": null,
   "id": "25239e1a",
   "metadata": {},
   "outputs": [],
   "source": []
  },
  {
   "cell_type": "code",
   "execution_count": null,
   "id": "b33ec001",
   "metadata": {},
   "outputs": [],
   "source": []
  },
  {
   "cell_type": "code",
   "execution_count": null,
   "id": "dd7da26e",
   "metadata": {},
   "outputs": [],
   "source": []
  }
 ],
 "metadata": {
  "kernelspec": {
   "display_name": "Python 3",
   "language": "python",
   "name": "python3"
  },
  "language_info": {
   "codemirror_mode": {
    "name": "ipython",
    "version": 3
   },
   "file_extension": ".py",
   "mimetype": "text/x-python",
   "name": "python",
   "nbconvert_exporter": "python",
   "pygments_lexer": "ipython3",
   "version": "3.8.8"
  }
 },
 "nbformat": 4,
 "nbformat_minor": 5
}
