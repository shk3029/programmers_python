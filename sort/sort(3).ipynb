{
 "cells": [
  {
   "cell_type": "code",
   "execution_count": 144,
   "id": "488a91d6",
   "metadata": {},
   "outputs": [],
   "source": [
    "def solution(citations):\n",
    "    answer = 0\n",
    "    citations.sort()\n",
    "\n",
    "    pivot = len(citations)-1\n",
    "\n",
    "    while True:\n",
    "        h = citations[pivot]\n",
    "\n",
    "        if (len(citations) - pivot) >= h and pivot <= h:\n",
    "            answer = h\n",
    "            break\n",
    "        pivot -= 1\n",
    "    \n",
    "    return answer"
   ]
  },
  {
   "cell_type": "code",
   "execution_count": 145,
   "id": "fdf9aa2b",
   "metadata": {},
   "outputs": [
    {
     "data": {
      "text/plain": [
       "3"
      ]
     },
     "execution_count": 145,
     "metadata": {},
     "output_type": "execute_result"
    }
   ],
   "source": [
    "citations = [3, 0, 6, 1, 5]\n",
    "solution(citations) # 3"
   ]
  },
  {
   "cell_type": "code",
   "execution_count": 146,
   "id": "037c5d87",
   "metadata": {},
   "outputs": [
    {
     "data": {
      "text/plain": [
       "0"
      ]
     },
     "execution_count": 146,
     "metadata": {},
     "output_type": "execute_result"
    }
   ],
   "source": [
    "citations = [0, 0, 0, 0, 0]\n",
    "solution(citations) # 0"
   ]
  },
  {
   "cell_type": "code",
   "execution_count": 147,
   "id": "beae70ba",
   "metadata": {
    "scrolled": true
   },
   "outputs": [
    {
     "data": {
      "text/plain": [
       "0"
      ]
     },
     "execution_count": 147,
     "metadata": {},
     "output_type": "execute_result"
    }
   ],
   "source": [
    "citations = [0, 0, 0, 0, 1]\n",
    "solution(citations) # 1"
   ]
  },
  {
   "cell_type": "code",
   "execution_count": 149,
   "id": "a4adac04",
   "metadata": {},
   "outputs": [
    {
     "data": {
      "text/plain": [
       "2"
      ]
     },
     "execution_count": 149,
     "metadata": {},
     "output_type": "execute_result"
    }
   ],
   "source": [
    "citations = [9, 7, 6, 2, 1]\n",
    "solution(citations) # 3"
   ]
  },
  {
   "cell_type": "code",
   "execution_count": null,
   "id": "0a7b9bee",
   "metadata": {},
   "outputs": [],
   "source": []
  },
  {
   "cell_type": "code",
   "execution_count": null,
   "id": "e3391859",
   "metadata": {},
   "outputs": [],
   "source": []
  }
 ],
 "metadata": {
  "kernelspec": {
   "display_name": "Python 3",
   "language": "python",
   "name": "python3"
  },
  "language_info": {
   "codemirror_mode": {
    "name": "ipython",
    "version": 3
   },
   "file_extension": ".py",
   "mimetype": "text/x-python",
   "name": "python",
   "nbconvert_exporter": "python",
   "pygments_lexer": "ipython3",
   "version": "3.8.8"
  }
 },
 "nbformat": 4,
 "nbformat_minor": 5
}
