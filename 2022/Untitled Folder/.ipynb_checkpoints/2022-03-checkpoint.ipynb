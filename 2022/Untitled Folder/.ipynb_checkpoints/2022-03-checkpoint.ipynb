{
 "cells": [
  {
   "cell_type": "markdown",
   "metadata": {},
   "source": [
    "# 코딩 테스트 공부\n",
    "알고력, 코딩력 - 0 이상의 정수\n",
    "\n"
   ]
  },
  {
   "cell_type": "code",
   "execution_count": 16,
   "metadata": {},
   "outputs": [],
   "source": [
    "def solution(alp, cop, problems):\n",
    "    alp_reqs = []\n",
    "    cop_reqs = []\n",
    "    alp_rwds = []\n",
    "    cop_rwds = []\n",
    "    costs = []\n",
    "    \n",
    "    for problem in problems:\n",
    "        alp_req = problem[0]\n",
    "        alp_reqs.append(alp_req)\n",
    "        \n",
    "        cop_req = problem[1]\n",
    "        cop_reqs.append(cop_req)\n",
    "        \n",
    "        alp_rwd = problem[2]\n",
    "        alp_rwds.append(alp_rwd)\n",
    "        \n",
    "        cop_rwd = problem[3]\n",
    "        cop_rwds.append(cop_rwd)\n",
    "        \n",
    "        cost = problem[4]\n",
    "        costs.append(cost)\n",
    "    \n",
    "    print(alp_reqs)\n",
    "    \n",
    "    return 0"
   ]
  },
  {
   "cell_type": "code",
   "execution_count": 17,
   "metadata": {},
   "outputs": [
    {
     "name": "stdout",
     "output_type": "stream",
     "text": [
      "[10, 20]\n"
     ]
    },
    {
     "data": {
      "text/plain": [
       "0"
      ]
     },
     "execution_count": 17,
     "metadata": {},
     "output_type": "execute_result"
    }
   ],
   "source": [
    "alp = 10\n",
    "cop = 10\n",
    "problems = [[10,15,2,1,2],[20,20,3,3,4]]\n",
    "solution(alp, cop, problems) # 15"
   ]
  },
  {
   "cell_type": "code",
   "execution_count": 18,
   "metadata": {},
   "outputs": [
    {
     "name": "stdout",
     "output_type": "stream",
     "text": [
      "[0, 4, 4, 10]\n"
     ]
    },
    {
     "data": {
      "text/plain": [
       "0"
      ]
     },
     "execution_count": 18,
     "metadata": {},
     "output_type": "execute_result"
    }
   ],
   "source": [
    "alp = 0\n",
    "cop = 0\n",
    "problems = [[0,0,2,1,2],[4,5,3,1,2],[4,11,4,0,2],[10,4,0,4,2]]\n",
    "solution(alp, cop, problems) # 13"
   ]
  },
  {
   "cell_type": "code",
   "execution_count": null,
   "metadata": {},
   "outputs": [],
   "source": []
  },
  {
   "cell_type": "code",
   "execution_count": null,
   "metadata": {},
   "outputs": [],
   "source": []
  },
  {
   "cell_type": "code",
   "execution_count": null,
   "metadata": {},
   "outputs": [],
   "source": []
  }
 ],
 "metadata": {
  "kernelspec": {
   "display_name": "Python 3",
   "language": "python",
   "name": "python3"
  },
  "language_info": {
   "codemirror_mode": {
    "name": "ipython",
    "version": 3
   },
   "file_extension": ".py",
   "mimetype": "text/x-python",
   "name": "python",
   "nbconvert_exporter": "python",
   "pygments_lexer": "ipython3",
   "version": "3.8.8"
  },
  "vscode": {
   "interpreter": {
    "hash": "139b75cdb723cf8424ee2fc4c4c5ac1f5a5aa2b893212c2fd677a720b29968b9"
   }
  }
 },
 "nbformat": 4,
 "nbformat_minor": 2
}
