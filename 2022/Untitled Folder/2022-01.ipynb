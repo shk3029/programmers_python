{
 "cells": [
  {
   "cell_type": "code",
   "execution_count": 14,
   "source": [
    "# Character \n",
    "# R,T / C,F / J,M / A,N\n",
    "# 1,2,3,4,5,6,7\n",
    "# [\"AN\", \"CF\", \"MJ\", \"RT\", \"NA\"] [5,3,2,7,5] \"TCMA\" \n",
    "# [\"TR\", \"RT\", \"TR\"] [7,1,3] \"RCJA\""
   ],
   "outputs": [],
   "metadata": {}
  },
  {
   "cell_type": "code",
   "execution_count": 29,
   "source": [
    "# 4점을 기준\n",
    "# 4점을 넘으면 4를 빼줌\n",
    "# 1 2 3 / 0 / 1 2 3\n",
    "# 4점보다 작으면 뒤에다 더해주고, 4점보다 크면 앞에다 더해줌\n",
    "# R vs T \n",
    "# C vs F\n",
    "# J vs M\n",
    "# A vs N\n",
    "# 점수가 같으면 알파벳순\n",
    "def solution(survey, choices):\n",
    "    survery_compare = [\"RT\", \"CF\", \"JM\", \"AN\"]\n",
    "    survery_dict = {\"R\":0, \"T\":0,\"C\":0,\"F\":0, \"J\":0, \"M\":0,\"A\":0,\"N\":0}\n",
    "    \n",
    "    for a,choice in zip(survey, choices):\n",
    "        if choice > 4 :\n",
    "            count = choice-4\n",
    "            survery_dict[a[1]] = survery_dict[a[1]] + count\n",
    "        else :\n",
    "            count = 4-choice\n",
    "            survery_dict[a[0]] = survery_dict[a[0]] + count\n",
    "\n",
    "    result = []\n",
    "\n",
    "    for i in survery_compare:\n",
    "        a = survery_dict[i[0]]\n",
    "        b = survery_dict[i[1]]\n",
    "        if b > a : \n",
    "            result.append(i[1])\n",
    "        else :\n",
    "            result.append(i[0])\n",
    "\n",
    "    return \"\".join(result)\n",
    "\n",
    "survey = [\"AN\",\"CF\",\"MJ\", \"RT\", \"NA\"]\n",
    "choices = [5,3,2,7,5]\n",
    "\n",
    "print(solution(survey, choices))\n",
    "\n",
    "survey = [\"TR\", \"RT\", \"TR\"]\n",
    "choices = [7,1,3]\n",
    "\n",
    "print(solution(survey, choices))"
   ],
   "outputs": [
    {
     "output_type": "stream",
     "name": "stdout",
     "text": [
      "TCMA\n",
      "RCJA\n"
     ]
    }
   ],
   "metadata": {}
  },
  {
   "cell_type": "code",
   "execution_count": 25,
   "source": [],
   "outputs": [],
   "metadata": {}
  },
  {
   "cell_type": "code",
   "execution_count": 7,
   "source": [
    "# Sum of queues"
   ],
   "outputs": [],
   "metadata": {}
  },
  {
   "cell_type": "code",
   "execution_count": 8,
   "source": [
    "def solution(queue1, queue2):\n",
    "    answer = -2\n",
    "    return answer"
   ],
   "outputs": [],
   "metadata": {}
  },
  {
   "cell_type": "code",
   "execution_count": null,
   "source": [],
   "outputs": [],
   "metadata": {}
  }
 ],
 "metadata": {
  "kernelspec": {
   "name": "python3",
   "display_name": "Python 3.9.7 64-bit"
  },
  "language_info": {
   "name": "python",
   "version": "3.9.13",
   "mimetype": "text/x-python",
   "codemirror_mode": {
    "name": "ipython",
    "version": 3
   },
   "pygments_lexer": "ipython3",
   "nbconvert_exporter": "python",
   "file_extension": ".py"
  },
  "interpreter": {
   "hash": "aee8b7b246df8f9039afb4144a1f6fd8d2ca17a180786b69acc140d282b71a49"
  }
 },
 "nbformat": 4,
 "nbformat_minor": 5
}