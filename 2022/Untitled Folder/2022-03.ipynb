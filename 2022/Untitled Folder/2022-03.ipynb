{
 "cells": [
  {
   "cell_type": "code",
   "execution_count": 10,
   "source": [
    "queue1 = [3,2,7,2]\n",
    "queue2 = [4,6,5,1]\n",
    "queue3 = [1,2,1,2]\n",
    "queue4 = [1,10,1,2]\n",
    "queue5 = [1,1]\n",
    "queue6 = [1,5]"
   ],
   "outputs": [],
   "metadata": {}
  },
  {
   "cell_type": "code",
   "execution_count": 2,
   "source": [
    "queue1 = [3,2,7,2]\n",
    "queue2 = [4,6,5,1]\n",
    "queue3 = [1,2,1,2]\n",
    "queue4 = [1,10,1,2]\n",
    "queue5 = [1,1]\n",
    "queue6 = [1,5]\n",
    "# [3,2,7,2] [4,6,5,1] 2\n",
    "# [1,2,1,2] [1,10,1,2] 7\n",
    "# [1,1] [1,5] -1\n",
    "\n",
    "def solution(queue1, queue2):\n",
    "    sum_queue1 = sum(queue1)\n",
    "    sum_queue2 = sum(queue2)\n",
    "    total = sum_queue1 + sum_queue2\n",
    "    \n",
    "    if total%2 != 0:\n",
    "        return -1\n",
    "    \n",
    "    total_half = total/2\n",
    "    \n",
    "    count = len(queue1) + len(queue2)+ 2\n",
    "    change_count = 0\n",
    "    \n",
    "    pop1_i = 0\n",
    "    pop2_i = 0\n",
    "    \n",
    "    while sum_queue1 != total_half or sum_queue2 != total_half:\n",
    "        if sum_queue1 > total_half : \n",
    "            pop1 = queue1[pop1_i]\n",
    "            sum_queue1 -= pop1\n",
    "            queue2.append(pop1)\n",
    "            sum_queue2 += pop1\n",
    "            change_count += 1\n",
    "            pop1_i +=1\n",
    "        else :\n",
    "            pop2 = queue2[pop2_i]\n",
    "            sum_queue2 -= pop2\n",
    "            queue1.append(pop2)\n",
    "            sum_queue1 += pop2\n",
    "            change_count += 1\n",
    "            pop2_i +=1\n",
    "\n",
    "        count -= 1\n",
    "        \n",
    "        if count == -1: \n",
    "            change_count = -1\n",
    "            break\n",
    "\n",
    "    return change_count\n",
    "\n",
    "solution(queue5, queue6)"
   ],
   "outputs": [
    {
     "output_type": "execute_result",
     "data": {
      "text/plain": [
       "-1"
      ]
     },
     "metadata": {},
     "execution_count": 2
    }
   ],
   "metadata": {}
  },
  {
   "cell_type": "code",
   "execution_count": null,
   "source": [],
   "outputs": [],
   "metadata": {}
  }
 ],
 "metadata": {
  "orig_nbformat": 4,
  "language_info": {
   "name": "python",
   "version": "3.9.13",
   "mimetype": "text/x-python",
   "codemirror_mode": {
    "name": "ipython",
    "version": 3
   },
   "pygments_lexer": "ipython3",
   "nbconvert_exporter": "python",
   "file_extension": ".py"
  },
  "kernelspec": {
   "name": "python3",
   "display_name": "Python 3.9.13 64-bit"
  },
  "interpreter": {
   "hash": "aee8b7b246df8f9039afb4144a1f6fd8d2ca17a180786b69acc140d282b71a49"
  }
 },
 "nbformat": 4,
 "nbformat_minor": 2
}