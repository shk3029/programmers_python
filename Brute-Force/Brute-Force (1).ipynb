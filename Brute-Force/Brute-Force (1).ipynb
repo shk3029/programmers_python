{
 "cells": [
  {
   "cell_type": "code",
   "execution_count": 57,
   "id": "b8f7b5c5",
   "metadata": {},
   "outputs": [],
   "source": [
    "def solution(answers):\n",
    "    A = [1,2,3,4,5]\n",
    "    B = [2,1,2,3,2,4,2,5]\n",
    "    C = [3,3,1,1,2,2,4,4,5,5]\n",
    "    \n",
    "    ok = [0,0,0]\n",
    "    \n",
    "    for i in range(len(answers)):\n",
    "        if A[i%len(A)] == answers[i]:\n",
    "                ok[0] += 1\n",
    "        if B[i%len(B)] == answers[i]:\n",
    "                ok[1] += 1\n",
    "        if C[i%len(C)] == answers[i]:\n",
    "                ok[2] += 1\n",
    "\n",
    "    max_ok = max(ok)\n",
    "    \n",
    "    result = []\n",
    "    for i in range(len(ok)):\n",
    "        if max_ok == ok[i]:\n",
    "            result.append(i+1)\n",
    "    \n",
    "    return result\n"
   ]
  },
  {
   "cell_type": "code",
   "execution_count": null,
   "id": "3e7133ad",
   "metadata": {},
   "outputs": [],
   "source": [
    "def solution(answers):\n",
    "    A = [1,2,3,4,5]\n",
    "    B = [2,1,2,3,2,4,2,5]\n",
    "    C = [3,3,1,1,2,2,4,4,5,5]\n",
    "    \n",
    "    ok = [0,0,0]\n",
    "    \n",
    "    for idx, ans in enumerate(answers):\n",
    "        if A[i%len(A)] == answers[i]:\n",
    "                ok[0] += 1\n",
    "        if B[i%len(B)] == answers[i]:\n",
    "                ok[1] += 1\n",
    "        if C[i%len(C)] == answers[i]:\n",
    "                ok[2] += 1\n",
    "\n",
    "    max_ok = max(ok)\n",
    "    \n",
    "    result = []\n",
    "    for i in range(len(ok)):\n",
    "        if max_ok == ok[i]:\n",
    "            result.append(i+1)\n",
    "    \n",
    "    return result\n",
    "\n"
   ]
  },
  {
   "cell_type": "code",
   "execution_count": 58,
   "id": "fa060735",
   "metadata": {},
   "outputs": [
    {
     "data": {
      "text/plain": [
       "[1]"
      ]
     },
     "execution_count": 58,
     "metadata": {},
     "output_type": "execute_result"
    }
   ],
   "source": [
    "answers = [1,2,3,4,5] # 1\n",
    "solution(answers)"
   ]
  },
  {
   "cell_type": "code",
   "execution_count": 59,
   "id": "637cd0fa",
   "metadata": {},
   "outputs": [
    {
     "data": {
      "text/plain": [
       "[1, 2, 3]"
      ]
     },
     "execution_count": 59,
     "metadata": {},
     "output_type": "execute_result"
    }
   ],
   "source": [
    "answers = [1,3,2,4,2] # 1 2 3\n",
    "solution(answers)"
   ]
  },
  {
   "cell_type": "code",
   "execution_count": 60,
   "id": "2a69a2b0",
   "metadata": {},
   "outputs": [
    {
     "data": {
      "text/plain": [
       "[1]"
      ]
     },
     "execution_count": 60,
     "metadata": {},
     "output_type": "execute_result"
    }
   ],
   "source": [
    "answers = [1,2,3,4,5,1,2,3,4,5]\n",
    "solution(answers)"
   ]
  },
  {
   "cell_type": "code",
   "execution_count": null,
   "id": "cc00c438",
   "metadata": {},
   "outputs": [],
   "source": []
  },
  {
   "cell_type": "code",
   "execution_count": null,
   "id": "215a08c7",
   "metadata": {},
   "outputs": [],
   "source": []
  }
 ],
 "metadata": {
  "kernelspec": {
   "display_name": "Python 3",
   "language": "python",
   "name": "python3"
  },
  "language_info": {
   "codemirror_mode": {
    "name": "ipython",
    "version": 3
   },
   "file_extension": ".py",
   "mimetype": "text/x-python",
   "name": "python",
   "nbconvert_exporter": "python",
   "pygments_lexer": "ipython3",
   "version": "3.8.8"
  }
 },
 "nbformat": 4,
 "nbformat_minor": 5
}
